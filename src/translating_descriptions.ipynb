{
 "cells": [
  {
   "cell_type": "markdown",
   "metadata": {},
   "source": [
    "# Translating Non-English Text Descriptions"
   ]
  },
  {
   "cell_type": "code",
   "execution_count": 41,
   "metadata": {},
   "outputs": [],
   "source": [
    "import pandas as pd\n",
    "import numpy as np\n",
    "from google_trans_new import google_translator\n",
    "from langid.langid import LanguageIdentifier, model"
   ]
  },
  {
   "cell_type": "markdown",
   "metadata": {},
   "source": [
    "## Load Data"
   ]
  },
  {
   "cell_type": "code",
   "execution_count": 32,
   "metadata": {},
   "outputs": [],
   "source": [
    "data = pd.read_csv('../data/podcasts.csv')"
   ]
  },
  {
   "cell_type": "code",
   "execution_count": 33,
   "metadata": {},
   "outputs": [
    {
     "data": {
      "text/html": [
       "<div>\n",
       "<style scoped>\n",
       "    .dataframe tbody tr th:only-of-type {\n",
       "        vertical-align: middle;\n",
       "    }\n",
       "\n",
       "    .dataframe tbody tr th {\n",
       "        vertical-align: top;\n",
       "    }\n",
       "\n",
       "    .dataframe thead th {\n",
       "        text-align: right;\n",
       "    }\n",
       "</style>\n",
       "<table border=\"1\" class=\"dataframe\">\n",
       "  <thead>\n",
       "    <tr style=\"text-align: right;\">\n",
       "      <th></th>\n",
       "      <th>uuid</th>\n",
       "      <th>title</th>\n",
       "      <th>image</th>\n",
       "      <th>description</th>\n",
       "      <th>language</th>\n",
       "      <th>categories</th>\n",
       "      <th>website</th>\n",
       "      <th>author</th>\n",
       "      <th>itunes_id</th>\n",
       "    </tr>\n",
       "  </thead>\n",
       "  <tbody>\n",
       "    <tr>\n",
       "      <th>0</th>\n",
       "      <td>8d62d3880db2425b890b986e58aca393</td>\n",
       "      <td>Ecommerce Conversations, by Practical Ecommerce</td>\n",
       "      <td>http://is4.mzstatic.com/image/thumb/Music6/v4/...</td>\n",
       "      <td>Listen in as the Practical Ecommerce editorial...</td>\n",
       "      <td>English</td>\n",
       "      <td>Technology</td>\n",
       "      <td>http://www.practicalecommerce.com</td>\n",
       "      <td>Practical Ecommerce</td>\n",
       "      <td>874457373</td>\n",
       "    </tr>\n",
       "    <tr>\n",
       "      <th>1</th>\n",
       "      <td>cbbefd691915468c90f87ab2f00473f9</td>\n",
       "      <td>Eat Sleep Code Podcast</td>\n",
       "      <td>http://is4.mzstatic.com/image/thumb/Music71/v4...</td>\n",
       "      <td>On the show we’ll be talking to passionate peo...</td>\n",
       "      <td>English</td>\n",
       "      <td>Tech News | Technology</td>\n",
       "      <td>http://developer.telerik.com/</td>\n",
       "      <td>Telerik</td>\n",
       "      <td>1015556393</td>\n",
       "    </tr>\n",
       "    <tr>\n",
       "      <th>2</th>\n",
       "      <td>73626ad1edb74dbb8112cd159bda86cf</td>\n",
       "      <td>SoundtrackAlley</td>\n",
       "      <td>http://is5.mzstatic.com/image/thumb/Music71/v4...</td>\n",
       "      <td>A podcast about soundtracks and movies from my...</td>\n",
       "      <td>English</td>\n",
       "      <td>Podcasting | Technology</td>\n",
       "      <td>https://soundtrackalley.podbean.com</td>\n",
       "      <td>Randy Andrews</td>\n",
       "      <td>1158188937</td>\n",
       "    </tr>\n",
       "    <tr>\n",
       "      <th>3</th>\n",
       "      <td>0f50631ebad24cedb2fee80950f37a1a</td>\n",
       "      <td>The Tech M&amp;A Podcast</td>\n",
       "      <td>http://is1.mzstatic.com/image/thumb/Music71/v4...</td>\n",
       "      <td>The Tech M&amp;A Podcast pulls from the best of th...</td>\n",
       "      <td>English</td>\n",
       "      <td>Business News | Technology | Tech News | Business</td>\n",
       "      <td>http://www.corumgroup.com</td>\n",
       "      <td>Timothy Goddard</td>\n",
       "      <td>538160025</td>\n",
       "    </tr>\n",
       "    <tr>\n",
       "      <th>4</th>\n",
       "      <td>69580e7b419045839ca07af06cf0d653</td>\n",
       "      <td>The Tech Informist - For fans of Apple, Google...</td>\n",
       "      <td>http://is4.mzstatic.com/image/thumb/Music62/v4...</td>\n",
       "      <td>The tech news show with two guys shooting the ...</td>\n",
       "      <td>English</td>\n",
       "      <td>Gadgets | Tech News | Technology</td>\n",
       "      <td>http://techinformist.com</td>\n",
       "      <td>The Tech Informist</td>\n",
       "      <td>916080498</td>\n",
       "    </tr>\n",
       "  </tbody>\n",
       "</table>\n",
       "</div>"
      ],
      "text/plain": [
       "                               uuid  \\\n",
       "0  8d62d3880db2425b890b986e58aca393   \n",
       "1  cbbefd691915468c90f87ab2f00473f9   \n",
       "2  73626ad1edb74dbb8112cd159bda86cf   \n",
       "3  0f50631ebad24cedb2fee80950f37a1a   \n",
       "4  69580e7b419045839ca07af06cf0d653   \n",
       "\n",
       "                                               title  \\\n",
       "0    Ecommerce Conversations, by Practical Ecommerce   \n",
       "1                             Eat Sleep Code Podcast   \n",
       "2                                    SoundtrackAlley   \n",
       "3                               The Tech M&A Podcast   \n",
       "4  The Tech Informist - For fans of Apple, Google...   \n",
       "\n",
       "                                               image  \\\n",
       "0  http://is4.mzstatic.com/image/thumb/Music6/v4/...   \n",
       "1  http://is4.mzstatic.com/image/thumb/Music71/v4...   \n",
       "2  http://is5.mzstatic.com/image/thumb/Music71/v4...   \n",
       "3  http://is1.mzstatic.com/image/thumb/Music71/v4...   \n",
       "4  http://is4.mzstatic.com/image/thumb/Music62/v4...   \n",
       "\n",
       "                                         description language  \\\n",
       "0  Listen in as the Practical Ecommerce editorial...  English   \n",
       "1  On the show we’ll be talking to passionate peo...  English   \n",
       "2  A podcast about soundtracks and movies from my...  English   \n",
       "3  The Tech M&A Podcast pulls from the best of th...  English   \n",
       "4  The tech news show with two guys shooting the ...  English   \n",
       "\n",
       "                                          categories  \\\n",
       "0                                         Technology   \n",
       "1                             Tech News | Technology   \n",
       "2                            Podcasting | Technology   \n",
       "3  Business News | Technology | Tech News | Business   \n",
       "4                   Gadgets | Tech News | Technology   \n",
       "\n",
       "                               website               author   itunes_id  \n",
       "0    http://www.practicalecommerce.com  Practical Ecommerce   874457373  \n",
       "1        http://developer.telerik.com/              Telerik  1015556393  \n",
       "2  https://soundtrackalley.podbean.com        Randy Andrews  1158188937  \n",
       "3            http://www.corumgroup.com      Timothy Goddard   538160025  \n",
       "4             http://techinformist.com   The Tech Informist   916080498  "
      ]
     },
     "execution_count": 33,
     "metadata": {},
     "output_type": "execute_result"
    }
   ],
   "source": [
    "data.head()"
   ]
  },
  {
   "cell_type": "code",
   "execution_count": 4,
   "metadata": {},
   "outputs": [
    {
     "data": {
      "text/plain": [
       "(121175, 9)"
      ]
     },
     "execution_count": 4,
     "metadata": {},
     "output_type": "execute_result"
    }
   ],
   "source": [
    "data.shape"
   ]
  },
  {
   "cell_type": "code",
   "execution_count": 5,
   "metadata": {},
   "outputs": [
    {
     "name": "stdout",
     "output_type": "stream",
     "text": [
      "<class 'pandas.core.frame.DataFrame'>\n",
      "RangeIndex: 121175 entries, 0 to 121174\n",
      "Data columns (total 9 columns):\n",
      " #   Column       Non-Null Count   Dtype \n",
      "---  ------       --------------   ----- \n",
      " 0   uuid         121175 non-null  object\n",
      " 1   title        121173 non-null  object\n",
      " 2   image        121175 non-null  object\n",
      " 3   description  119832 non-null  object\n",
      " 4   language     121175 non-null  object\n",
      " 5   categories   121175 non-null  object\n",
      " 6   website      120005 non-null  object\n",
      " 7   author       118678 non-null  object\n",
      " 8   itunes_id    121175 non-null  int64 \n",
      "dtypes: int64(1), object(8)\n",
      "memory usage: 8.3+ MB\n"
     ]
    }
   ],
   "source": [
    "data.info()"
   ]
  },
  {
   "cell_type": "markdown",
   "metadata": {},
   "source": [
    "## Clean Data"
   ]
  },
  {
   "cell_type": "code",
   "execution_count": 6,
   "metadata": {},
   "outputs": [
    {
     "data": {
      "text/plain": [
       "(116374, 9)"
      ]
     },
     "execution_count": 6,
     "metadata": {},
     "output_type": "execute_result"
    }
   ],
   "source": [
    "# Remove null values.\n",
    "data.dropna(axis=0, inplace=True)\n",
    "data.shape"
   ]
  },
  {
   "cell_type": "markdown",
   "metadata": {},
   "source": [
    "## Translate Data"
   ]
  },
  {
   "cell_type": "code",
   "execution_count": 78,
   "metadata": {},
   "outputs": [],
   "source": [
    "# Create translator function.\n",
    "translator = google_translator()\n",
    "def translate(x):\n",
    "    try:\n",
    "        return translator.translate(x, lang_tgt='en')\n",
    "    except:\n",
    "        return x"
   ]
  },
  {
   "cell_type": "markdown",
   "metadata": {},
   "source": [
    "### Full Dataset (for eda)"
   ]
  },
  {
   "cell_type": "code",
   "execution_count": null,
   "metadata": {},
   "outputs": [],
   "source": [
    "# Split into English and Non-English dataframes to optimize timing for translations.\n",
    "english_df = data[data['language']=='English']\n",
    "non_english_df = data[data['language']!='English']"
   ]
  },
  {
   "cell_type": "code",
   "execution_count": null,
   "metadata": {},
   "outputs": [],
   "source": [
    "# Translates descriptions.\n",
    "non_english_df['english'] = non_english_df['description'].apply(lambda x: translate(x))"
   ]
  },
  {
   "cell_type": "code",
   "execution_count": null,
   "metadata": {},
   "outputs": [],
   "source": [
    "# Remove the rows that could not be translated.\n",
    "non_english_df = non_english_df[non_english_df['description'] != non_english_df['english']]"
   ]
  },
  {
   "cell_type": "code",
   "execution_count": null,
   "metadata": {},
   "outputs": [],
   "source": [
    "# Replace description column with english translation.\n",
    "non_english_df['description'] = non_english_df['english']\n",
    "non_english_df.drop('english', axis=1, inplace=True)"
   ]
  },
  {
   "cell_type": "code",
   "execution_count": null,
   "metadata": {},
   "outputs": [],
   "source": [
    "# Concatenate the split dataframes after translations.\n",
    "data = pd.concat([english_df, non_english_df])"
   ]
  },
  {
   "cell_type": "code",
   "execution_count": null,
   "metadata": {},
   "outputs": [],
   "source": [
    "# Check for null values.\n",
    "data.info()"
   ]
  },
  {
   "cell_type": "code",
   "execution_count": null,
   "metadata": {},
   "outputs": [],
   "source": [
    "# Save full translated podcasts to csv file.\n",
    "data = data[['uuid', 'title', 'description', 'language', 'categories', 'author']]\n",
    "data.to_csv('../data/translated_podcasts.csv')"
   ]
  },
  {
   "cell_type": "markdown",
   "metadata": {},
   "source": [
    "### Sampled Dataset (for recommender)"
   ]
  },
  {
   "cell_type": "code",
   "execution_count": 55,
   "metadata": {},
   "outputs": [],
   "source": [
    "data = pd.read_csv('../data/translated_podcasts.csv')"
   ]
  },
  {
   "cell_type": "code",
   "execution_count": 56,
   "metadata": {},
   "outputs": [
    {
     "name": "stdout",
     "output_type": "stream",
     "text": [
      "<class 'pandas.core.frame.DataFrame'>\n",
      "RangeIndex: 300669 entries, 0 to 300668\n",
      "Data columns (total 7 columns):\n",
      " #   Column       Non-Null Count   Dtype \n",
      "---  ------       --------------   ----- \n",
      " 0   Unnamed: 0   300668 non-null  object\n",
      " 1   uuid         300667 non-null  object\n",
      " 2   title        300667 non-null  object\n",
      " 3   description  116354 non-null  object\n",
      " 4   language     116344 non-null  object\n",
      " 5   categories   116339 non-null  object\n",
      " 6   author       116339 non-null  object\n",
      "dtypes: object(7)\n",
      "memory usage: 16.1+ MB\n"
     ]
    }
   ],
   "source": [
    "data.info()"
   ]
  },
  {
   "cell_type": "code",
   "execution_count": 57,
   "metadata": {},
   "outputs": [],
   "source": [
    "data.dropna(axis=0, inplace=True)"
   ]
  },
  {
   "cell_type": "code",
   "execution_count": 58,
   "metadata": {},
   "outputs": [],
   "source": [
    "sample = data.sample(20000, random_state=1234)"
   ]
  },
  {
   "cell_type": "code",
   "execution_count": 59,
   "metadata": {},
   "outputs": [
    {
     "data": {
      "text/plain": [
       "(20000, 7)"
      ]
     },
     "execution_count": 59,
     "metadata": {},
     "output_type": "execute_result"
    }
   ],
   "source": [
    "sample.shape"
   ]
  },
  {
   "cell_type": "code",
   "execution_count": 60,
   "metadata": {},
   "outputs": [
    {
     "name": "stdout",
     "output_type": "stream",
     "text": [
      "<class 'pandas.core.frame.DataFrame'>\n",
      "Int64Index: 20000 entries, 270496 to 138409\n",
      "Data columns (total 7 columns):\n",
      " #   Column       Non-Null Count  Dtype \n",
      "---  ------       --------------  ----- \n",
      " 0   Unnamed: 0   20000 non-null  object\n",
      " 1   uuid         20000 non-null  object\n",
      " 2   title        20000 non-null  object\n",
      " 3   description  20000 non-null  object\n",
      " 4   language     20000 non-null  object\n",
      " 5   categories   20000 non-null  object\n",
      " 6   author       20000 non-null  object\n",
      "dtypes: object(7)\n",
      "memory usage: 1.2+ MB\n"
     ]
    }
   ],
   "source": [
    "# Check for null values.\n",
    "sample.info()"
   ]
  },
  {
   "cell_type": "code",
   "execution_count": 61,
   "metadata": {},
   "outputs": [],
   "source": [
    "sample.drop('Unnamed: 0', axis=1, inplace=True)"
   ]
  },
  {
   "cell_type": "code",
   "execution_count": 65,
   "metadata": {},
   "outputs": [],
   "source": [
    "# Create pred_lang function to detect language of descriptions.\n",
    "def pred_lang(df, column):\n",
    "    identifier = LanguageIdentifier.from_modelstring(model, norm_probs=True)\n",
    "    lang_lst = []\n",
    "    for text in df[column].values:\n",
    "        lang, score = identifier.classify(text)\n",
    "        lang_lst.append(lang)\n",
    "    return lang_lst"
   ]
  },
  {
   "cell_type": "code",
   "execution_count": 66,
   "metadata": {},
   "outputs": [],
   "source": [
    "lang_lst = pred_lang(sample, 'description')"
   ]
  },
  {
   "cell_type": "code",
   "execution_count": 68,
   "metadata": {},
   "outputs": [],
   "source": [
    "# Add lang_lst to sample dataframe.\n",
    "sample['pred_lang'] = lang_lst"
   ]
  },
  {
   "cell_type": "code",
   "execution_count": 74,
   "metadata": {},
   "outputs": [
    {
     "data": {
      "text/html": [
       "<div>\n",
       "<style scoped>\n",
       "    .dataframe tbody tr th:only-of-type {\n",
       "        vertical-align: middle;\n",
       "    }\n",
       "\n",
       "    .dataframe tbody tr th {\n",
       "        vertical-align: top;\n",
       "    }\n",
       "\n",
       "    .dataframe thead th {\n",
       "        text-align: right;\n",
       "    }\n",
       "</style>\n",
       "<table border=\"1\" class=\"dataframe\">\n",
       "  <thead>\n",
       "    <tr style=\"text-align: right;\">\n",
       "      <th></th>\n",
       "      <th>uuid</th>\n",
       "      <th>title</th>\n",
       "      <th>description</th>\n",
       "      <th>language</th>\n",
       "      <th>categories</th>\n",
       "      <th>author</th>\n",
       "      <th>pred_lang</th>\n",
       "    </tr>\n",
       "  </thead>\n",
       "  <tbody>\n",
       "    <tr>\n",
       "      <th>9994</th>\n",
       "      <td>2a7d921d7e0741ecbc9822aea6401929</td>\n",
       "      <td>Just Torts the Podcast</td>\n",
       "      <td>Law school is tricky, believe me, you need all...</td>\n",
       "      <td>English</td>\n",
       "      <td>Education</td>\n",
       "      <td>Just Law</td>\n",
       "      <td>en</td>\n",
       "    </tr>\n",
       "    <tr>\n",
       "      <th>270</th>\n",
       "      <td>1b676049b2dd40d680d973faa726000f</td>\n",
       "      <td>Podcasts - Bloom</td>\n",
       "      <td>Podcasts</td>\n",
       "      <td>English</td>\n",
       "      <td>Religion &amp; Spirituality | Christianity</td>\n",
       "      <td>Bloom Church (St. Paul, MN)</td>\n",
       "      <td>en</td>\n",
       "    </tr>\n",
       "    <tr>\n",
       "      <th>3921</th>\n",
       "      <td>e06edba460e64a90ac0145f2b83b091b</td>\n",
       "      <td>Jesters Academy</td>\n",
       "      <td>Join your \"instructors\" of Jesters Academy, Du...</td>\n",
       "      <td>English</td>\n",
       "      <td>Comedy</td>\n",
       "      <td>Jesters Academy</td>\n",
       "      <td>en</td>\n",
       "    </tr>\n",
       "    <tr>\n",
       "      <th>52646</th>\n",
       "      <td>8824098835e84edfb70482885a4246fe</td>\n",
       "      <td>The Neil Garfield Show</td>\n",
       "      <td>Controversial host and world renown financial ...</td>\n",
       "      <td>English</td>\n",
       "      <td>Business | Investing</td>\n",
       "      <td>The Neil Garfield Show</td>\n",
       "      <td>en</td>\n",
       "    </tr>\n",
       "    <tr>\n",
       "      <th>25199</th>\n",
       "      <td>609799572dea4a709b220564bd91d8ae</td>\n",
       "      <td>Football Garbage Time: The Podcast!</td>\n",
       "      <td>Enjoy NFL football news and nonsense? Enjoy ou...</td>\n",
       "      <td>English</td>\n",
       "      <td>Professional | Sports &amp; Recreation</td>\n",
       "      <td>Football Garbage Time The Podcast</td>\n",
       "      <td>en</td>\n",
       "    </tr>\n",
       "    <tr>\n",
       "      <th>63242</th>\n",
       "      <td>c487c08868354a3281a2a0969394ed3e</td>\n",
       "      <td>Unfiltered Single Dad</td>\n",
       "      <td>As a single dad for the last 15 years, I wante...</td>\n",
       "      <td>English</td>\n",
       "      <td>Society &amp; Culture</td>\n",
       "      <td>Unfiltered Single Dad / Anchor</td>\n",
       "      <td>en</td>\n",
       "    </tr>\n",
       "    <tr>\n",
       "      <th>292634</th>\n",
       "      <td>529b86387b2046e48c2dc9e07aa44987</td>\n",
       "      <td>Sanfte Weltherrren</td>\n",
       "      <td>Again and again at some point - often called \"...</td>\n",
       "      <td>German</td>\n",
       "      <td>Comedy | Philosophy | Spirituality | Society &amp;...</td>\n",
       "      <td>Mykx</td>\n",
       "      <td>en</td>\n",
       "    </tr>\n",
       "    <tr>\n",
       "      <th>283989</th>\n",
       "      <td>6e610f9c67994cc0865e8ffcd9f29e07</td>\n",
       "      <td>Guildnews Podcast</td>\n",
       "      <td>In our podcast on MMO Guild Wars 2, Sputti, Du...</td>\n",
       "      <td>German</td>\n",
       "      <td>Video Games | Games &amp; Hobbies | Podcasting | T...</td>\n",
       "      <td>Alexander Leitsch</td>\n",
       "      <td>en</td>\n",
       "    </tr>\n",
       "    <tr>\n",
       "      <th>27648</th>\n",
       "      <td>6ba9994b0d634c90b00245d9cc910960</td>\n",
       "      <td>aarontra radio 📻</td>\n",
       "      <td>Trying to be more creative and not just be a c...</td>\n",
       "      <td>English</td>\n",
       "      <td>Comedy</td>\n",
       "      <td>Aaron Trahan  / Anchor</td>\n",
       "      <td>en</td>\n",
       "    </tr>\n",
       "    <tr>\n",
       "      <th>270290</th>\n",
       "      <td>f093df064dcf4a0697383bef43a95aa5</td>\n",
       "      <td>The Penumbra Podcast</td>\n",
       "      <td>Depending on who you ask, the Penumbra is eith...</td>\n",
       "      <td>English</td>\n",
       "      <td>Arts | Performing Arts | Comedy</td>\n",
       "      <td>Sophie Kaner and Kevin Vibert</td>\n",
       "      <td>en</td>\n",
       "    </tr>\n",
       "  </tbody>\n",
       "</table>\n",
       "</div>"
      ],
      "text/plain": [
       "                                    uuid                                title  \\\n",
       "9994    2a7d921d7e0741ecbc9822aea6401929               Just Torts the Podcast   \n",
       "270     1b676049b2dd40d680d973faa726000f                     Podcasts - Bloom   \n",
       "3921    e06edba460e64a90ac0145f2b83b091b                      Jesters Academy   \n",
       "52646   8824098835e84edfb70482885a4246fe               The Neil Garfield Show   \n",
       "25199   609799572dea4a709b220564bd91d8ae  Football Garbage Time: The Podcast!   \n",
       "63242   c487c08868354a3281a2a0969394ed3e                Unfiltered Single Dad   \n",
       "292634  529b86387b2046e48c2dc9e07aa44987                   Sanfte Weltherrren   \n",
       "283989  6e610f9c67994cc0865e8ffcd9f29e07                    Guildnews Podcast   \n",
       "27648   6ba9994b0d634c90b00245d9cc910960                     aarontra radio 📻   \n",
       "270290  f093df064dcf4a0697383bef43a95aa5                 The Penumbra Podcast   \n",
       "\n",
       "                                              description language  \\\n",
       "9994    Law school is tricky, believe me, you need all...  English   \n",
       "270                                              Podcasts  English   \n",
       "3921    Join your \"instructors\" of Jesters Academy, Du...  English   \n",
       "52646   Controversial host and world renown financial ...  English   \n",
       "25199   Enjoy NFL football news and nonsense? Enjoy ou...  English   \n",
       "63242   As a single dad for the last 15 years, I wante...  English   \n",
       "292634  Again and again at some point - often called \"...   German   \n",
       "283989  In our podcast on MMO Guild Wars 2, Sputti, Du...   German   \n",
       "27648   Trying to be more creative and not just be a c...  English   \n",
       "270290  Depending on who you ask, the Penumbra is eith...  English   \n",
       "\n",
       "                                               categories  \\\n",
       "9994                                            Education   \n",
       "270                Religion & Spirituality | Christianity   \n",
       "3921                                               Comedy   \n",
       "52646                                Business | Investing   \n",
       "25199                  Professional | Sports & Recreation   \n",
       "63242                                   Society & Culture   \n",
       "292634  Comedy | Philosophy | Spirituality | Society &...   \n",
       "283989  Video Games | Games & Hobbies | Podcasting | T...   \n",
       "27648                                              Comedy   \n",
       "270290                    Arts | Performing Arts | Comedy   \n",
       "\n",
       "                                   author pred_lang  \n",
       "9994                             Just Law        en  \n",
       "270           Bloom Church (St. Paul, MN)        en  \n",
       "3921                      Jesters Academy        en  \n",
       "52646              The Neil Garfield Show        en  \n",
       "25199   Football Garbage Time The Podcast        en  \n",
       "63242      Unfiltered Single Dad / Anchor        en  \n",
       "292634                               Mykx        en  \n",
       "283989                  Alexander Leitsch        en  \n",
       "27648              Aaron Trahan  / Anchor        en  \n",
       "270290      Sophie Kaner and Kevin Vibert        en  "
      ]
     },
     "execution_count": 74,
     "metadata": {},
     "output_type": "execute_result"
    }
   ],
   "source": [
    "sample.sample(10)"
   ]
  },
  {
   "cell_type": "code",
   "execution_count": 75,
   "metadata": {},
   "outputs": [],
   "source": [
    "# Drop language column.\n",
    "sample.drop('language', axis=1, inplace=True)"
   ]
  },
  {
   "cell_type": "code",
   "execution_count": 76,
   "metadata": {},
   "outputs": [],
   "source": [
    "# Split into English and Non-English dataframes.\n",
    "non_english_df = sample[sample['pred_lang']!='en']\n",
    "english_df = sample[sample['pred_lang']=='en']"
   ]
  },
  {
   "cell_type": "code",
   "execution_count": 79,
   "metadata": {},
   "outputs": [
    {
     "name": "stderr",
     "output_type": "stream",
     "text": [
      "/opt/anaconda3/lib/python3.7/site-packages/ipykernel_launcher.py:1: SettingWithCopyWarning: \n",
      "A value is trying to be set on a copy of a slice from a DataFrame.\n",
      "Try using .loc[row_indexer,col_indexer] = value instead\n",
      "\n",
      "See the caveats in the documentation: https://pandas.pydata.org/pandas-docs/stable/user_guide/indexing.html#returning-a-view-versus-a-copy\n",
      "  \"\"\"Entry point for launching an IPython kernel.\n"
     ]
    }
   ],
   "source": [
    "# Translate Non-English descriptions.\n",
    "non_english_df['translation'] = non_english_df['description'].apply(lambda x: translate(x))"
   ]
  },
  {
   "cell_type": "code",
   "execution_count": 85,
   "metadata": {},
   "outputs": [
    {
     "data": {
      "text/html": [
       "<div>\n",
       "<style scoped>\n",
       "    .dataframe tbody tr th:only-of-type {\n",
       "        vertical-align: middle;\n",
       "    }\n",
       "\n",
       "    .dataframe tbody tr th {\n",
       "        vertical-align: top;\n",
       "    }\n",
       "\n",
       "    .dataframe thead th {\n",
       "        text-align: right;\n",
       "    }\n",
       "</style>\n",
       "<table border=\"1\" class=\"dataframe\">\n",
       "  <thead>\n",
       "    <tr style=\"text-align: right;\">\n",
       "      <th></th>\n",
       "      <th>uuid</th>\n",
       "      <th>title</th>\n",
       "      <th>description</th>\n",
       "      <th>categories</th>\n",
       "      <th>author</th>\n",
       "      <th>pred_lang</th>\n",
       "      <th>translation</th>\n",
       "    </tr>\n",
       "  </thead>\n",
       "  <tbody>\n",
       "    <tr>\n",
       "      <th>276158</th>\n",
       "      <td>bc51e1d167d84f018aebcc623b8fb904</td>\n",
       "      <td>ByznysPark</td>\n",
       "      <td>ByznysPark přináší rozhovory s lidmi, které ba...</td>\n",
       "      <td>Business | Management &amp; Marketing</td>\n",
       "      <td>Michal Andera</td>\n",
       "      <td>cs</td>\n",
       "      <td>ByznysPark brings interviews with people who e...</td>\n",
       "    </tr>\n",
       "    <tr>\n",
       "      <th>15298</th>\n",
       "      <td>e301fa81424948cfb9fc4df0dda97c8d</td>\n",
       "      <td>On Air with Niilo</td>\n",
       "      <td>Teacher, blogger, YouTuber, podcaster, EdTech ...</td>\n",
       "      <td>Education</td>\n",
       "      <td>BeSmartOnAir, DViSonAir</td>\n",
       "      <td>cs</td>\n",
       "      <td>Teacher, blogger, YouTuber, podcaster, EdTech ...</td>\n",
       "    </tr>\n",
       "    <tr>\n",
       "      <th>293843</th>\n",
       "      <td>63ddbfbce31f47cc99df0e427a6abbd8</td>\n",
       "      <td>Rádio Mais FM</td>\n",
       "      <td>Rádio Mais FM - 87.9 - Anápolis - Goiás</td>\n",
       "      <td>News &amp; Politics</td>\n",
       "      <td>Rádio Mais FM</td>\n",
       "      <td>ga</td>\n",
       "      <td>Rádio Mais FM - 87.9 - Anápolis - Goiás</td>\n",
       "    </tr>\n",
       "    <tr>\n",
       "      <th>11431</th>\n",
       "      <td>0b9f1d497630469182b802139c963444</td>\n",
       "      <td>Khoresht-e Tech - خورشت تکنولوژی</td>\n",
       "      <td>Khoresht-e Tech is a weekly podcast in Persian...</td>\n",
       "      <td>Tech News | Gadgets | Technology</td>\n",
       "      <td>SBS Persian</td>\n",
       "      <td>ur</td>\n",
       "      <td>Khoresht-e Tech is a weekly podcast in Persian...</td>\n",
       "    </tr>\n",
       "    <tr>\n",
       "      <th>50334</th>\n",
       "      <td>2679ed07a2ba4b8fbbbc37792c76d4b9</td>\n",
       "      <td>Semilla OC</td>\n",
       "      <td>Somos una comunidad multigeneracional apasiona...</td>\n",
       "      <td>Christianity | Religion &amp; Spirituality</td>\n",
       "      <td>Hector Hermosillo Podcast</td>\n",
       "      <td>es</td>\n",
       "      <td>We are a multigenerational community passionat...</td>\n",
       "    </tr>\n",
       "    <tr>\n",
       "      <th>142803</th>\n",
       "      <td>3ce7d39298984c1d8d58d3df4ee2a431</td>\n",
       "      <td>Slacker &amp; Steve</td>\n",
       "      <td>Slacker &amp; Steve</td>\n",
       "      <td>Technology | Society &amp; Culture | Comedy</td>\n",
       "      <td>Slacker &amp; Steve</td>\n",
       "      <td>sl</td>\n",
       "      <td>Slacker &amp; Steve</td>\n",
       "    </tr>\n",
       "    <tr>\n",
       "      <th>20754</th>\n",
       "      <td>e21efed3b04a4ce2abc3bed674901278</td>\n",
       "      <td>Swiss Cove Christian Church</td>\n",
       "      <td>Swiss Cove Christian Church</td>\n",
       "      <td>Religion &amp; Spirituality | Christianity</td>\n",
       "      <td>Swiss Cove</td>\n",
       "      <td>de</td>\n",
       "      <td>Swiss Cove Christian Church</td>\n",
       "    </tr>\n",
       "    <tr>\n",
       "      <th>29378</th>\n",
       "      <td>5b8b889b232c4d3898f66b934d601189</td>\n",
       "      <td>Jorge De Los Ríos</td>\n",
       "      <td>Podcast en español en donde comparto mis lecci...</td>\n",
       "      <td>Society &amp; Culture</td>\n",
       "      <td>Jorge De Los Ríos / Anchor</td>\n",
       "      <td>es</td>\n",
       "      <td>Podcast in Spanish where I share my life lesso...</td>\n",
       "    </tr>\n",
       "    <tr>\n",
       "      <th>262989</th>\n",
       "      <td>962f35be3b8b438d9a55f8c84a0d09bc</td>\n",
       "      <td>Premier League Podden</td>\n",
       "      <td>Välkommen till Premier League Podden! \\r\\n\\r\\n...</td>\n",
       "      <td>Sports &amp; Recreation | Professional</td>\n",
       "      <td>Fansens podcast</td>\n",
       "      <td>sv</td>\n",
       "      <td>Welcome to the Premier League Pod!  Like our p...</td>\n",
       "    </tr>\n",
       "    <tr>\n",
       "      <th>264371</th>\n",
       "      <td>69facd2f96374442bdc5a33d5733c2c4</td>\n",
       "      <td>Liga dos 32 (NFL)</td>\n",
       "      <td>Falando de NFL como você nunca ouviu. Trazemos...</td>\n",
       "      <td>Sports &amp; Recreation | Professional</td>\n",
       "      <td>Liga dos 32</td>\n",
       "      <td>pt</td>\n",
       "      <td>Speaking of NFL like you've never heard. We br...</td>\n",
       "    </tr>\n",
       "  </tbody>\n",
       "</table>\n",
       "</div>"
      ],
      "text/plain": [
       "                                    uuid                             title  \\\n",
       "276158  bc51e1d167d84f018aebcc623b8fb904                        ByznysPark   \n",
       "15298   e301fa81424948cfb9fc4df0dda97c8d                 On Air with Niilo   \n",
       "293843  63ddbfbce31f47cc99df0e427a6abbd8                     Rádio Mais FM   \n",
       "11431   0b9f1d497630469182b802139c963444  Khoresht-e Tech - خورشت تکنولوژی   \n",
       "50334   2679ed07a2ba4b8fbbbc37792c76d4b9                        Semilla OC   \n",
       "142803  3ce7d39298984c1d8d58d3df4ee2a431                   Slacker & Steve   \n",
       "20754   e21efed3b04a4ce2abc3bed674901278       Swiss Cove Christian Church   \n",
       "29378   5b8b889b232c4d3898f66b934d601189                 Jorge De Los Ríos   \n",
       "262989  962f35be3b8b438d9a55f8c84a0d09bc             Premier League Podden   \n",
       "264371  69facd2f96374442bdc5a33d5733c2c4                 Liga dos 32 (NFL)   \n",
       "\n",
       "                                              description  \\\n",
       "276158  ByznysPark přináší rozhovory s lidmi, které ba...   \n",
       "15298   Teacher, blogger, YouTuber, podcaster, EdTech ...   \n",
       "293843           Rádio Mais FM - 87.9 - Anápolis - Goiás    \n",
       "11431   Khoresht-e Tech is a weekly podcast in Persian...   \n",
       "50334   Somos una comunidad multigeneracional apasiona...   \n",
       "142803                                    Slacker & Steve   \n",
       "20754                         Swiss Cove Christian Church   \n",
       "29378   Podcast en español en donde comparto mis lecci...   \n",
       "262989  Välkommen till Premier League Podden! \\r\\n\\r\\n...   \n",
       "264371  Falando de NFL como você nunca ouviu. Trazemos...   \n",
       "\n",
       "                                     categories                      author  \\\n",
       "276158        Business | Management & Marketing               Michal Andera   \n",
       "15298                                 Education     BeSmartOnAir, DViSonAir   \n",
       "293843                          News & Politics               Rádio Mais FM   \n",
       "11431          Tech News | Gadgets | Technology                 SBS Persian   \n",
       "50334    Christianity | Religion & Spirituality   Hector Hermosillo Podcast   \n",
       "142803  Technology | Society & Culture | Comedy             Slacker & Steve   \n",
       "20754    Religion & Spirituality | Christianity                  Swiss Cove   \n",
       "29378                         Society & Culture  Jorge De Los Ríos / Anchor   \n",
       "262989       Sports & Recreation | Professional             Fansens podcast   \n",
       "264371       Sports & Recreation | Professional                 Liga dos 32   \n",
       "\n",
       "       pred_lang                                        translation  \n",
       "276158        cs  ByznysPark brings interviews with people who e...  \n",
       "15298         cs  Teacher, blogger, YouTuber, podcaster, EdTech ...  \n",
       "293843        ga           Rádio Mais FM - 87.9 - Anápolis - Goiás   \n",
       "11431         ur  Khoresht-e Tech is a weekly podcast in Persian...  \n",
       "50334         es  We are a multigenerational community passionat...  \n",
       "142803        sl                                   Slacker & Steve   \n",
       "20754         de                       Swiss Cove Christian Church   \n",
       "29378         es  Podcast in Spanish where I share my life lesso...  \n",
       "262989        sv  Welcome to the Premier League Pod!  Like our p...  \n",
       "264371        pt  Speaking of NFL like you've never heard. We br...  "
      ]
     },
     "execution_count": 85,
     "metadata": {},
     "output_type": "execute_result"
    }
   ],
   "source": [
    "# Sanity check.\n",
    "non_english_df.sample(10)"
   ]
  },
  {
   "cell_type": "code",
   "execution_count": 86,
   "metadata": {},
   "outputs": [],
   "source": [
    "# Remove podcasts where translation did not work.\n",
    "non_english_df = non_english_df[non_english_df['description']==non_english_df['translation']]"
   ]
  },
  {
   "cell_type": "code",
   "execution_count": 87,
   "metadata": {},
   "outputs": [],
   "source": [
    "# Replace description column.\n",
    "non_english_df['description'] = non_english_df['translation']\n",
    "non_english_df.drop('translation', axis=1, inplace=True)"
   ]
  },
  {
   "cell_type": "code",
   "execution_count": 88,
   "metadata": {},
   "outputs": [],
   "source": [
    "# Put the dataframes back together.\n",
    "sample = pd.concat([english_df, non_english_df])"
   ]
  },
  {
   "cell_type": "code",
   "execution_count": 89,
   "metadata": {},
   "outputs": [
    {
     "name": "stdout",
     "output_type": "stream",
     "text": [
      "<class 'pandas.core.frame.DataFrame'>\n",
      "Int64Index: 19126 entries, 270496 to 281091\n",
      "Data columns (total 6 columns):\n",
      " #   Column       Non-Null Count  Dtype \n",
      "---  ------       --------------  ----- \n",
      " 0   uuid         19126 non-null  object\n",
      " 1   title        19126 non-null  object\n",
      " 2   description  19126 non-null  object\n",
      " 3   categories   19126 non-null  object\n",
      " 4   author       19126 non-null  object\n",
      " 5   pred_lang    19126 non-null  object\n",
      "dtypes: object(6)\n",
      "memory usage: 1.0+ MB\n"
     ]
    }
   ],
   "source": [
    "sample.info()"
   ]
  },
  {
   "cell_type": "code",
   "execution_count": 92,
   "metadata": {},
   "outputs": [],
   "source": [
    "# Save sampled translated podcasts to csv file.\n",
    "sample = sample[['uuid', 'title', 'description', 'pred_lang', 'categories', 'author']]\n",
    "sample.to_csv('../data/translated_podcast_samples.csv')"
   ]
  },
  {
   "cell_type": "code",
   "execution_count": null,
   "metadata": {},
   "outputs": [],
   "source": []
  }
 ],
 "metadata": {
  "kernelspec": {
   "display_name": "Python 3",
   "language": "python",
   "name": "python3"
  },
  "language_info": {
   "codemirror_mode": {
    "name": "ipython",
    "version": 3
   },
   "file_extension": ".py",
   "mimetype": "text/x-python",
   "name": "python",
   "nbconvert_exporter": "python",
   "pygments_lexer": "ipython3",
   "version": "3.7.7"
  }
 },
 "nbformat": 4,
 "nbformat_minor": 4
}
