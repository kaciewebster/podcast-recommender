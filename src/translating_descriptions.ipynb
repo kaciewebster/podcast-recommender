{
 "cells": [
  {
   "cell_type": "markdown",
   "metadata": {},
   "source": [
    "# Translating Non-English Text Descriptions"
   ]
  },
  {
   "cell_type": "code",
   "execution_count": 2,
   "metadata": {},
   "outputs": [],
   "source": [
    "import pandas as pd\n",
    "import numpy as np\n",
    "from google_trans_new import google_translator\n",
    "from langid.langid import LanguageIdentifier, model"
   ]
  },
  {
   "cell_type": "markdown",
   "metadata": {},
   "source": [
    "## Load Data"
   ]
  },
  {
   "cell_type": "code",
   "execution_count": 32,
   "metadata": {},
   "outputs": [],
   "source": [
    "data = pd.read_csv('../data/podcasts.csv')"
   ]
  },
  {
   "cell_type": "code",
   "execution_count": 33,
   "metadata": {},
   "outputs": [
    {
     "data": {
      "text/html": [
       "<div>\n",
       "<style scoped>\n",
       "    .dataframe tbody tr th:only-of-type {\n",
       "        vertical-align: middle;\n",
       "    }\n",
       "\n",
       "    .dataframe tbody tr th {\n",
       "        vertical-align: top;\n",
       "    }\n",
       "\n",
       "    .dataframe thead th {\n",
       "        text-align: right;\n",
       "    }\n",
       "</style>\n",
       "<table border=\"1\" class=\"dataframe\">\n",
       "  <thead>\n",
       "    <tr style=\"text-align: right;\">\n",
       "      <th></th>\n",
       "      <th>uuid</th>\n",
       "      <th>title</th>\n",
       "      <th>image</th>\n",
       "      <th>description</th>\n",
       "      <th>language</th>\n",
       "      <th>categories</th>\n",
       "      <th>website</th>\n",
       "      <th>author</th>\n",
       "      <th>itunes_id</th>\n",
       "    </tr>\n",
       "  </thead>\n",
       "  <tbody>\n",
       "    <tr>\n",
       "      <th>0</th>\n",
       "      <td>8d62d3880db2425b890b986e58aca393</td>\n",
       "      <td>Ecommerce Conversations, by Practical Ecommerce</td>\n",
       "      <td>http://is4.mzstatic.com/image/thumb/Music6/v4/...</td>\n",
       "      <td>Listen in as the Practical Ecommerce editorial...</td>\n",
       "      <td>English</td>\n",
       "      <td>Technology</td>\n",
       "      <td>http://www.practicalecommerce.com</td>\n",
       "      <td>Practical Ecommerce</td>\n",
       "      <td>874457373</td>\n",
       "    </tr>\n",
       "    <tr>\n",
       "      <th>1</th>\n",
       "      <td>cbbefd691915468c90f87ab2f00473f9</td>\n",
       "      <td>Eat Sleep Code Podcast</td>\n",
       "      <td>http://is4.mzstatic.com/image/thumb/Music71/v4...</td>\n",
       "      <td>On the show we’ll be talking to passionate peo...</td>\n",
       "      <td>English</td>\n",
       "      <td>Tech News | Technology</td>\n",
       "      <td>http://developer.telerik.com/</td>\n",
       "      <td>Telerik</td>\n",
       "      <td>1015556393</td>\n",
       "    </tr>\n",
       "    <tr>\n",
       "      <th>2</th>\n",
       "      <td>73626ad1edb74dbb8112cd159bda86cf</td>\n",
       "      <td>SoundtrackAlley</td>\n",
       "      <td>http://is5.mzstatic.com/image/thumb/Music71/v4...</td>\n",
       "      <td>A podcast about soundtracks and movies from my...</td>\n",
       "      <td>English</td>\n",
       "      <td>Podcasting | Technology</td>\n",
       "      <td>https://soundtrackalley.podbean.com</td>\n",
       "      <td>Randy Andrews</td>\n",
       "      <td>1158188937</td>\n",
       "    </tr>\n",
       "    <tr>\n",
       "      <th>3</th>\n",
       "      <td>0f50631ebad24cedb2fee80950f37a1a</td>\n",
       "      <td>The Tech M&amp;A Podcast</td>\n",
       "      <td>http://is1.mzstatic.com/image/thumb/Music71/v4...</td>\n",
       "      <td>The Tech M&amp;A Podcast pulls from the best of th...</td>\n",
       "      <td>English</td>\n",
       "      <td>Business News | Technology | Tech News | Business</td>\n",
       "      <td>http://www.corumgroup.com</td>\n",
       "      <td>Timothy Goddard</td>\n",
       "      <td>538160025</td>\n",
       "    </tr>\n",
       "    <tr>\n",
       "      <th>4</th>\n",
       "      <td>69580e7b419045839ca07af06cf0d653</td>\n",
       "      <td>The Tech Informist - For fans of Apple, Google...</td>\n",
       "      <td>http://is4.mzstatic.com/image/thumb/Music62/v4...</td>\n",
       "      <td>The tech news show with two guys shooting the ...</td>\n",
       "      <td>English</td>\n",
       "      <td>Gadgets | Tech News | Technology</td>\n",
       "      <td>http://techinformist.com</td>\n",
       "      <td>The Tech Informist</td>\n",
       "      <td>916080498</td>\n",
       "    </tr>\n",
       "  </tbody>\n",
       "</table>\n",
       "</div>"
      ],
      "text/plain": [
       "                               uuid  \\\n",
       "0  8d62d3880db2425b890b986e58aca393   \n",
       "1  cbbefd691915468c90f87ab2f00473f9   \n",
       "2  73626ad1edb74dbb8112cd159bda86cf   \n",
       "3  0f50631ebad24cedb2fee80950f37a1a   \n",
       "4  69580e7b419045839ca07af06cf0d653   \n",
       "\n",
       "                                               title  \\\n",
       "0    Ecommerce Conversations, by Practical Ecommerce   \n",
       "1                             Eat Sleep Code Podcast   \n",
       "2                                    SoundtrackAlley   \n",
       "3                               The Tech M&A Podcast   \n",
       "4  The Tech Informist - For fans of Apple, Google...   \n",
       "\n",
       "                                               image  \\\n",
       "0  http://is4.mzstatic.com/image/thumb/Music6/v4/...   \n",
       "1  http://is4.mzstatic.com/image/thumb/Music71/v4...   \n",
       "2  http://is5.mzstatic.com/image/thumb/Music71/v4...   \n",
       "3  http://is1.mzstatic.com/image/thumb/Music71/v4...   \n",
       "4  http://is4.mzstatic.com/image/thumb/Music62/v4...   \n",
       "\n",
       "                                         description language  \\\n",
       "0  Listen in as the Practical Ecommerce editorial...  English   \n",
       "1  On the show we’ll be talking to passionate peo...  English   \n",
       "2  A podcast about soundtracks and movies from my...  English   \n",
       "3  The Tech M&A Podcast pulls from the best of th...  English   \n",
       "4  The tech news show with two guys shooting the ...  English   \n",
       "\n",
       "                                          categories  \\\n",
       "0                                         Technology   \n",
       "1                             Tech News | Technology   \n",
       "2                            Podcasting | Technology   \n",
       "3  Business News | Technology | Tech News | Business   \n",
       "4                   Gadgets | Tech News | Technology   \n",
       "\n",
       "                               website               author   itunes_id  \n",
       "0    http://www.practicalecommerce.com  Practical Ecommerce   874457373  \n",
       "1        http://developer.telerik.com/              Telerik  1015556393  \n",
       "2  https://soundtrackalley.podbean.com        Randy Andrews  1158188937  \n",
       "3            http://www.corumgroup.com      Timothy Goddard   538160025  \n",
       "4             http://techinformist.com   The Tech Informist   916080498  "
      ]
     },
     "execution_count": 33,
     "metadata": {},
     "output_type": "execute_result"
    }
   ],
   "source": [
    "data.head()"
   ]
  },
  {
   "cell_type": "code",
   "execution_count": 4,
   "metadata": {},
   "outputs": [
    {
     "data": {
      "text/plain": [
       "(121175, 9)"
      ]
     },
     "execution_count": 4,
     "metadata": {},
     "output_type": "execute_result"
    }
   ],
   "source": [
    "data.shape"
   ]
  },
  {
   "cell_type": "code",
   "execution_count": 5,
   "metadata": {},
   "outputs": [
    {
     "name": "stdout",
     "output_type": "stream",
     "text": [
      "<class 'pandas.core.frame.DataFrame'>\n",
      "RangeIndex: 121175 entries, 0 to 121174\n",
      "Data columns (total 9 columns):\n",
      " #   Column       Non-Null Count   Dtype \n",
      "---  ------       --------------   ----- \n",
      " 0   uuid         121175 non-null  object\n",
      " 1   title        121173 non-null  object\n",
      " 2   image        121175 non-null  object\n",
      " 3   description  119832 non-null  object\n",
      " 4   language     121175 non-null  object\n",
      " 5   categories   121175 non-null  object\n",
      " 6   website      120005 non-null  object\n",
      " 7   author       118678 non-null  object\n",
      " 8   itunes_id    121175 non-null  int64 \n",
      "dtypes: int64(1), object(8)\n",
      "memory usage: 8.3+ MB\n"
     ]
    }
   ],
   "source": [
    "data.info()"
   ]
  },
  {
   "cell_type": "markdown",
   "metadata": {},
   "source": [
    "## Clean Data"
   ]
  },
  {
   "cell_type": "code",
   "execution_count": 6,
   "metadata": {},
   "outputs": [
    {
     "data": {
      "text/plain": [
       "(116374, 9)"
      ]
     },
     "execution_count": 6,
     "metadata": {},
     "output_type": "execute_result"
    }
   ],
   "source": [
    "# Remove null values.\n",
    "data.dropna(axis=0, inplace=True)\n",
    "data.shape"
   ]
  },
  {
   "cell_type": "markdown",
   "metadata": {},
   "source": [
    "## Translate Data"
   ]
  },
  {
   "cell_type": "code",
   "execution_count": 17,
   "metadata": {},
   "outputs": [],
   "source": [
    "# Create translator function.\n",
    "translator = google_translator()\n",
    "def translate(x):\n",
    "    try:\n",
    "        return translator.translate(x, lang_tgt='en')\n",
    "    except:\n",
    "        return x"
   ]
  },
  {
   "cell_type": "markdown",
   "metadata": {},
   "source": [
    "### Full Dataset (for eda)"
   ]
  },
  {
   "cell_type": "code",
   "execution_count": null,
   "metadata": {},
   "outputs": [],
   "source": [
    "# Split into English and Non-English dataframes to optimize timing for translations.\n",
    "english_df = data[data['language']=='English']\n",
    "non_english_df = data[data['language']!='English']"
   ]
  },
  {
   "cell_type": "code",
   "execution_count": null,
   "metadata": {},
   "outputs": [],
   "source": [
    "# Translates descriptions.\n",
    "non_english_df['english'] = non_english_df['description'].apply(lambda x: translate(x))"
   ]
  },
  {
   "cell_type": "code",
   "execution_count": null,
   "metadata": {},
   "outputs": [],
   "source": [
    "# Remove the rows that could not be translated.\n",
    "non_english_df = non_english_df[non_english_df['description'] != non_english_df['english']]"
   ]
  },
  {
   "cell_type": "code",
   "execution_count": null,
   "metadata": {},
   "outputs": [],
   "source": [
    "# Replace description column with english translation.\n",
    "non_english_df['description'] = non_english_df['english']\n",
    "non_english_df.drop('english', axis=1, inplace=True)"
   ]
  },
  {
   "cell_type": "code",
   "execution_count": null,
   "metadata": {},
   "outputs": [],
   "source": [
    "# Concatenate the split dataframes after translations.\n",
    "data = pd.concat([english_df, non_english_df])"
   ]
  },
  {
   "cell_type": "code",
   "execution_count": null,
   "metadata": {},
   "outputs": [],
   "source": [
    "# Check for null values.\n",
    "data.info()"
   ]
  },
  {
   "cell_type": "code",
   "execution_count": null,
   "metadata": {},
   "outputs": [],
   "source": [
    "# Save full translated podcasts to csv file.\n",
    "data = data[['uuid', 'title', 'description', 'language', 'categories', 'author']]\n",
    "data.to_csv('../data/translated_podcasts.csv')"
   ]
  },
  {
   "cell_type": "markdown",
   "metadata": {},
   "source": [
    "### Sampled Dataset (for recommender)"
   ]
  },
  {
   "cell_type": "code",
   "execution_count": 3,
   "metadata": {},
   "outputs": [],
   "source": [
    "data = pd.read_csv('../data/translated_podcasts.csv')"
   ]
  },
  {
   "cell_type": "code",
   "execution_count": 4,
   "metadata": {},
   "outputs": [
    {
     "output_type": "stream",
     "name": "stdout",
     "text": [
      "<class 'pandas.core.frame.DataFrame'>\nRangeIndex: 300669 entries, 0 to 300668\nData columns (total 7 columns):\n #   Column       Non-Null Count   Dtype \n---  ------       --------------   ----- \n 0   Unnamed: 0   300668 non-null  object\n 1   uuid         300667 non-null  object\n 2   title        300667 non-null  object\n 3   description  116354 non-null  object\n 4   language     116344 non-null  object\n 5   categories   116339 non-null  object\n 6   author       116339 non-null  object\ndtypes: object(7)\nmemory usage: 16.1+ MB\n"
     ]
    }
   ],
   "source": [
    "data.info()"
   ]
  },
  {
   "cell_type": "code",
   "execution_count": 5,
   "metadata": {},
   "outputs": [],
   "source": [
    "data.dropna(axis=0, inplace=True)"
   ]
  },
  {
   "cell_type": "code",
   "execution_count": 6,
   "metadata": {},
   "outputs": [],
   "source": [
    "sample = data.sample(50000, random_state=1234)"
   ]
  },
  {
   "cell_type": "code",
   "execution_count": 7,
   "metadata": {},
   "outputs": [
    {
     "output_type": "execute_result",
     "data": {
      "text/plain": [
       "(50000, 7)"
      ]
     },
     "metadata": {},
     "execution_count": 7
    }
   ],
   "source": [
    "sample.shape"
   ]
  },
  {
   "cell_type": "code",
   "execution_count": 8,
   "metadata": {},
   "outputs": [
    {
     "output_type": "stream",
     "name": "stdout",
     "text": [
      "<class 'pandas.core.frame.DataFrame'>\nInt64Index: 50000 entries, 270496 to 28048\nData columns (total 7 columns):\n #   Column       Non-Null Count  Dtype \n---  ------       --------------  ----- \n 0   Unnamed: 0   50000 non-null  object\n 1   uuid         50000 non-null  object\n 2   title        50000 non-null  object\n 3   description  50000 non-null  object\n 4   language     50000 non-null  object\n 5   categories   50000 non-null  object\n 6   author       50000 non-null  object\ndtypes: object(7)\nmemory usage: 3.1+ MB\n"
     ]
    }
   ],
   "source": [
    "# Check for null values.\n",
    "sample.info()"
   ]
  },
  {
   "cell_type": "code",
   "execution_count": 9,
   "metadata": {},
   "outputs": [],
   "source": [
    "sample.drop('Unnamed: 0', axis=1, inplace=True)"
   ]
  },
  {
   "cell_type": "code",
   "execution_count": 10,
   "metadata": {},
   "outputs": [],
   "source": [
    "# Create pred_lang function to detect language of descriptions.\n",
    "def pred_lang(df, column):\n",
    "    identifier = LanguageIdentifier.from_modelstring(model, norm_probs=True)\n",
    "    lang_lst = []\n",
    "    for text in df[column].values:\n",
    "        lang, score = identifier.classify(text)\n",
    "        lang_lst.append(lang)\n",
    "    return lang_lst"
   ]
  },
  {
   "cell_type": "code",
   "execution_count": 11,
   "metadata": {},
   "outputs": [],
   "source": [
    "lang_lst = pred_lang(sample, 'description')"
   ]
  },
  {
   "cell_type": "code",
   "execution_count": 12,
   "metadata": {},
   "outputs": [],
   "source": [
    "# Add lang_lst to sample dataframe.\n",
    "sample['pred_lang'] = lang_lst"
   ]
  },
  {
   "cell_type": "code",
   "execution_count": 13,
   "metadata": {},
   "outputs": [
    {
     "output_type": "execute_result",
     "data": {
      "text/plain": [
       "                                    uuid  \\\n",
       "293557  5cca597570a242459aa2bf942461d37f   \n",
       "274687  98e9ad89d62546da81cf4304cce5f366   \n",
       "268113  035b5d1864c740c1bd10e675be2fdc80   \n",
       "294677  ca2868fc71c849469af050a02a6e9b14   \n",
       "138163  39e5be7abe9642c5aa3d9e1e4a91db62   \n",
       "285742  93e214a350d945cca9de323c21c3e358   \n",
       "277615  dd0095354e2d4a968d82fcc6ae1e11c1   \n",
       "284214  433860e17e124a5a931073f54ea218d9   \n",
       "39098   46b9d7e1a0844289b41837d2032cdec7   \n",
       "16248   054470dbe8c74f6cb2b8847ad228889d   \n",
       "\n",
       "                                                    title  \\\n",
       "293557                  欧洲华语播客 Podcast - Eurasian Matters   \n",
       "274687                          Match of the Year Podcast   \n",
       "268113  First United Methodist Church of Kearney, Miss...   \n",
       "294677                                    Vortex CaosCast   \n",
       "138163                              No Meat Athlete Radio   \n",
       "285742                                                 夜听   \n",
       "277615            On the Frontlines of Multiple Sclerosis   \n",
       "284214    Catalyzr | Inspiration, Motivation und Coaching   \n",
       "39098                                  The Chicken Social   \n",
       "16248                         Step Up To Level Up Podcast   \n",
       "\n",
       "                                              description    language  \\\n",
       "293557  Interview with Huina *Pin Lao Yangtou *Appreci...     Chinese   \n",
       "274687  We look at the evolution of professional wrest...     English   \n",
       "268113  Weekly teaching from First United Methodist Ch...     English   \n",
       "294677  We opened a Vortex and broke with consensual r...  Portuguese   \n",
       "138163  Vegan and vegetarian nutrition, running and tr...     English   \n",
       "285742                                   Night listening      Chinese   \n",
       "277615  Welcome to On the Frontlines of Multiple Scler...     English   \n",
       "284214  Catalyzr is about leading a more than just you...      German   \n",
       "39098   Each week hosts Obes and Cha, along with the m...     English   \n",
       "16248                           Podcast by Justin Feldman     English   \n",
       "\n",
       "                                               categories  \\\n",
       "293557  Health | Philosophy | Society & Culture | Educ...   \n",
       "274687  Society & Culture | Sports & Recreation | Prof...   \n",
       "268113             Religion & Spirituality | Christianity   \n",
       "294677  Spirituality | Religion & Spirituality | Socie...   \n",
       "138163  Outdoor | Alternative Health | Fitness & Nutri...   \n",
       "285742  Arts | Spirituality | Literature | Religion & ...   \n",
       "277615             Medicine | Science & Medicine | Health   \n",
       "284214                                 Self-Help | Health   \n",
       "39098   Comedy | Sports & Recreation | Philosophy | Ne...   \n",
       "16248                                              Health   \n",
       "\n",
       "                                                   author pred_lang  \n",
       "293557                                              Huina        en  \n",
       "274687                               Christopher J Garcia        en  \n",
       "268113                      First United Methodist Church        en  \n",
       "294677                                    Vortex CaosCast        en  \n",
       "138163                                       Matt Frazier        en  \n",
       "285742                                               精选FM        es  \n",
       "277615                                            ReachMD        en  \n",
       "284214  Tim Chaborski | Inspiriert durch Christian Bis...        en  \n",
       "39098                                  The Chicken Social        en  \n",
       "16248                                      Justin Feldman        en  "
      ],
      "text/html": "<div>\n<style scoped>\n    .dataframe tbody tr th:only-of-type {\n        vertical-align: middle;\n    }\n\n    .dataframe tbody tr th {\n        vertical-align: top;\n    }\n\n    .dataframe thead th {\n        text-align: right;\n    }\n</style>\n<table border=\"1\" class=\"dataframe\">\n  <thead>\n    <tr style=\"text-align: right;\">\n      <th></th>\n      <th>uuid</th>\n      <th>title</th>\n      <th>description</th>\n      <th>language</th>\n      <th>categories</th>\n      <th>author</th>\n      <th>pred_lang</th>\n    </tr>\n  </thead>\n  <tbody>\n    <tr>\n      <th>293557</th>\n      <td>5cca597570a242459aa2bf942461d37f</td>\n      <td>欧洲华语播客 Podcast - Eurasian Matters</td>\n      <td>Interview with Huina *Pin Lao Yangtou *Appreci...</td>\n      <td>Chinese</td>\n      <td>Health | Philosophy | Society &amp; Culture | Educ...</td>\n      <td>Huina</td>\n      <td>en</td>\n    </tr>\n    <tr>\n      <th>274687</th>\n      <td>98e9ad89d62546da81cf4304cce5f366</td>\n      <td>Match of the Year Podcast</td>\n      <td>We look at the evolution of professional wrest...</td>\n      <td>English</td>\n      <td>Society &amp; Culture | Sports &amp; Recreation | Prof...</td>\n      <td>Christopher J Garcia</td>\n      <td>en</td>\n    </tr>\n    <tr>\n      <th>268113</th>\n      <td>035b5d1864c740c1bd10e675be2fdc80</td>\n      <td>First United Methodist Church of Kearney, Miss...</td>\n      <td>Weekly teaching from First United Methodist Ch...</td>\n      <td>English</td>\n      <td>Religion &amp; Spirituality | Christianity</td>\n      <td>First United Methodist Church</td>\n      <td>en</td>\n    </tr>\n    <tr>\n      <th>294677</th>\n      <td>ca2868fc71c849469af050a02a6e9b14</td>\n      <td>Vortex CaosCast</td>\n      <td>We opened a Vortex and broke with consensual r...</td>\n      <td>Portuguese</td>\n      <td>Spirituality | Religion &amp; Spirituality | Socie...</td>\n      <td>Vortex CaosCast</td>\n      <td>en</td>\n    </tr>\n    <tr>\n      <th>138163</th>\n      <td>39e5be7abe9642c5aa3d9e1e4a91db62</td>\n      <td>No Meat Athlete Radio</td>\n      <td>Vegan and vegetarian nutrition, running and tr...</td>\n      <td>English</td>\n      <td>Outdoor | Alternative Health | Fitness &amp; Nutri...</td>\n      <td>Matt Frazier</td>\n      <td>en</td>\n    </tr>\n    <tr>\n      <th>285742</th>\n      <td>93e214a350d945cca9de323c21c3e358</td>\n      <td>夜听</td>\n      <td>Night listening</td>\n      <td>Chinese</td>\n      <td>Arts | Spirituality | Literature | Religion &amp; ...</td>\n      <td>精选FM</td>\n      <td>es</td>\n    </tr>\n    <tr>\n      <th>277615</th>\n      <td>dd0095354e2d4a968d82fcc6ae1e11c1</td>\n      <td>On the Frontlines of Multiple Sclerosis</td>\n      <td>Welcome to On the Frontlines of Multiple Scler...</td>\n      <td>English</td>\n      <td>Medicine | Science &amp; Medicine | Health</td>\n      <td>ReachMD</td>\n      <td>en</td>\n    </tr>\n    <tr>\n      <th>284214</th>\n      <td>433860e17e124a5a931073f54ea218d9</td>\n      <td>Catalyzr | Inspiration, Motivation und Coaching</td>\n      <td>Catalyzr is about leading a more than just you...</td>\n      <td>German</td>\n      <td>Self-Help | Health</td>\n      <td>Tim Chaborski | Inspiriert durch Christian Bis...</td>\n      <td>en</td>\n    </tr>\n    <tr>\n      <th>39098</th>\n      <td>46b9d7e1a0844289b41837d2032cdec7</td>\n      <td>The Chicken Social</td>\n      <td>Each week hosts Obes and Cha, along with the m...</td>\n      <td>English</td>\n      <td>Comedy | Sports &amp; Recreation | Philosophy | Ne...</td>\n      <td>The Chicken Social</td>\n      <td>en</td>\n    </tr>\n    <tr>\n      <th>16248</th>\n      <td>054470dbe8c74f6cb2b8847ad228889d</td>\n      <td>Step Up To Level Up Podcast</td>\n      <td>Podcast by Justin Feldman</td>\n      <td>English</td>\n      <td>Health</td>\n      <td>Justin Feldman</td>\n      <td>en</td>\n    </tr>\n  </tbody>\n</table>\n</div>"
     },
     "metadata": {},
     "execution_count": 13
    }
   ],
   "source": [
    "sample.sample(10)"
   ]
  },
  {
   "cell_type": "code",
   "execution_count": 14,
   "metadata": {},
   "outputs": [],
   "source": [
    "# Drop language column.\n",
    "sample.drop('language', axis=1, inplace=True)"
   ]
  },
  {
   "cell_type": "code",
   "execution_count": 15,
   "metadata": {},
   "outputs": [],
   "source": [
    "# Split into English and Non-English dataframes.\n",
    "non_english_df = sample[sample['pred_lang']!='en']\n",
    "english_df = sample[sample['pred_lang']=='en']"
   ]
  },
  {
   "cell_type": "code",
   "execution_count": 18,
   "metadata": {},
   "outputs": [
    {
     "output_type": "stream",
     "name": "stderr",
     "text": [
      "ipykernel_launcher:2: SettingWithCopyWarning: \nA value is trying to be set on a copy of a slice from a DataFrame.\nTry using .loc[row_indexer,col_indexer] = value instead\n\nSee the caveats in the documentation: https://pandas.pydata.org/pandas-docs/stable/user_guide/indexing.html#returning-a-view-versus-a-copy\n"
     ]
    }
   ],
   "source": [
    "# Translate Non-English descriptions.\n",
    "non_english_df['translation'] = non_english_df['description'].apply(lambda x: translate(x))"
   ]
  },
  {
   "cell_type": "code",
   "execution_count": 19,
   "metadata": {},
   "outputs": [
    {
     "output_type": "execute_result",
     "data": {
      "text/plain": [
       "                                    uuid  \\\n",
       "50356   4e588fc49e614b129dfe719298b86dae   \n",
       "2805    a9c78d3009d347458eb28cda54b06400   \n",
       "293184  46b38f3bdff94bdabf41c3054513b4a1   \n",
       "53822   693f9d2ffc42450e9ad2ba4506bfdeb1   \n",
       "14518   35dbdae349df483db47245ff1fd7bf5d   \n",
       "140447  791bc07a274540af926069033fe911d4   \n",
       "23048   2933451c1bf945cfbada0cc79972fda7   \n",
       "23025   6e4e2f6281e24d42b04dc69b433e6c76   \n",
       "18046   6c447fc698984df799aa9cf7c3cd4919   \n",
       "136832  8fd7a79d9395474b9e25d50c5f9f4e13   \n",
       "\n",
       "                                               title  \\\n",
       "50356                                        DevTalk   \n",
       "2805                                24syv Dokumentar   \n",
       "293184  Le journal des bonnes nouvelles FB Armorique   \n",
       "53822                             Rev. Adam R. Quine   \n",
       "14518                               Millionærklubben   \n",
       "140447                                        마을미디어뻔   \n",
       "23048                                       YTN 지식카페   \n",
       "23025                    The Eloquent Savage Podcast   \n",
       "18046                         O'Quinn Baptist Church   \n",
       "136832                      Terça Livre: Detona News   \n",
       "\n",
       "                                              description  \\\n",
       "50356   DevTalk: podcast programistyczny Macieja Anise...   \n",
       "2805    24syv Dokumentar er resultatet af ugens samled...   \n",
       "293184                The good news journal FB Armorique    \n",
       "53822                 religion,presbyterian,sermon,church   \n",
       "14518   Millionærklubbens består af to værter, Pernill...   \n",
       "140447                               중랑구 공동체라디오 마을미디어뻔입니다   \n",
       "23048   그 무언가를 찾는 여정에 올드 미디어가 작은 도움이 될 수 있기를 바랍니다. 이렇게...   \n",
       "23025                                    Some description   \n",
       "18046                              O'Quinn Baptist Church   \n",
       "136832       Acesse nosso website - www.tercalivre.com.br   \n",
       "\n",
       "                                               categories  \\\n",
       "50356                        Technology | Software How-To   \n",
       "2805                                      News & Politics   \n",
       "293184                                             Comedy   \n",
       "53822   Other | Spirituality | Religion & Spirituality...   \n",
       "14518                                Investing | Business   \n",
       "140447                 Local | Government & Organizations   \n",
       "23048                                     News & Politics   \n",
       "23025                  Professional | Sports & Recreation   \n",
       "18046              Religion & Spirituality | Christianity   \n",
       "136832                        News & Politics | TV & Film   \n",
       "\n",
       "                                    author pred_lang  \\\n",
       "50356                   Maciej Aniserowicz        pl   \n",
       "2805                            Radio24syv        da   \n",
       "293184                        Radio France        fr   \n",
       "53822                      Janis Klockenga        da   \n",
       "14518                           Radio24syv        da   \n",
       "140447                              마을미디어뻔        ko   \n",
       "23048   YTN,와이티엔FM94.5 (ytnfm@ytnradio.kr)        ko   \n",
       "23025                           CoachSteve        fr   \n",
       "18046                 Gerald A Greenlee Jr        ga   \n",
       "136832                         Terça Livre        it   \n",
       "\n",
       "                                              translation  \n",
       "50356   Devthalk: Podcast programming Maciej Aniserowi...  \n",
       "2805    24 SYV Documentary is the result of the overal...  \n",
       "293184                The good news journal FB Armorique   \n",
       "53822                religion,presbyterian,sermon,church   \n",
       "14518   The millionaire club consists of two hosts, Pe...  \n",
       "140447                Jungnang-gu Co Cylio Village Media   \n",
       "23048   I hope that the old media can be a small help ...  \n",
       "23025                                   Some description   \n",
       "18046                             O'Quinn Baptist Church   \n",
       "136832        Access our website - www.tercalivre.com.br   "
      ],
      "text/html": "<div>\n<style scoped>\n    .dataframe tbody tr th:only-of-type {\n        vertical-align: middle;\n    }\n\n    .dataframe tbody tr th {\n        vertical-align: top;\n    }\n\n    .dataframe thead th {\n        text-align: right;\n    }\n</style>\n<table border=\"1\" class=\"dataframe\">\n  <thead>\n    <tr style=\"text-align: right;\">\n      <th></th>\n      <th>uuid</th>\n      <th>title</th>\n      <th>description</th>\n      <th>categories</th>\n      <th>author</th>\n      <th>pred_lang</th>\n      <th>translation</th>\n    </tr>\n  </thead>\n  <tbody>\n    <tr>\n      <th>50356</th>\n      <td>4e588fc49e614b129dfe719298b86dae</td>\n      <td>DevTalk</td>\n      <td>DevTalk: podcast programistyczny Macieja Anise...</td>\n      <td>Technology | Software How-To</td>\n      <td>Maciej Aniserowicz</td>\n      <td>pl</td>\n      <td>Devthalk: Podcast programming Maciej Aniserowi...</td>\n    </tr>\n    <tr>\n      <th>2805</th>\n      <td>a9c78d3009d347458eb28cda54b06400</td>\n      <td>24syv Dokumentar</td>\n      <td>24syv Dokumentar er resultatet af ugens samled...</td>\n      <td>News &amp; Politics</td>\n      <td>Radio24syv</td>\n      <td>da</td>\n      <td>24 SYV Documentary is the result of the overal...</td>\n    </tr>\n    <tr>\n      <th>293184</th>\n      <td>46b38f3bdff94bdabf41c3054513b4a1</td>\n      <td>Le journal des bonnes nouvelles FB Armorique</td>\n      <td>The good news journal FB Armorique</td>\n      <td>Comedy</td>\n      <td>Radio France</td>\n      <td>fr</td>\n      <td>The good news journal FB Armorique</td>\n    </tr>\n    <tr>\n      <th>53822</th>\n      <td>693f9d2ffc42450e9ad2ba4506bfdeb1</td>\n      <td>Rev. Adam R. Quine</td>\n      <td>religion,presbyterian,sermon,church</td>\n      <td>Other | Spirituality | Religion &amp; Spirituality...</td>\n      <td>Janis Klockenga</td>\n      <td>da</td>\n      <td>religion,presbyterian,sermon,church</td>\n    </tr>\n    <tr>\n      <th>14518</th>\n      <td>35dbdae349df483db47245ff1fd7bf5d</td>\n      <td>Millionærklubben</td>\n      <td>Millionærklubbens består af to værter, Pernill...</td>\n      <td>Investing | Business</td>\n      <td>Radio24syv</td>\n      <td>da</td>\n      <td>The millionaire club consists of two hosts, Pe...</td>\n    </tr>\n    <tr>\n      <th>140447</th>\n      <td>791bc07a274540af926069033fe911d4</td>\n      <td>마을미디어뻔</td>\n      <td>중랑구 공동체라디오 마을미디어뻔입니다</td>\n      <td>Local | Government &amp; Organizations</td>\n      <td>마을미디어뻔</td>\n      <td>ko</td>\n      <td>Jungnang-gu Co Cylio Village Media</td>\n    </tr>\n    <tr>\n      <th>23048</th>\n      <td>2933451c1bf945cfbada0cc79972fda7</td>\n      <td>YTN 지식카페</td>\n      <td>그 무언가를 찾는 여정에 올드 미디어가 작은 도움이 될 수 있기를 바랍니다. 이렇게...</td>\n      <td>News &amp; Politics</td>\n      <td>YTN,와이티엔FM94.5 (ytnfm@ytnradio.kr)</td>\n      <td>ko</td>\n      <td>I hope that the old media can be a small help ...</td>\n    </tr>\n    <tr>\n      <th>23025</th>\n      <td>6e4e2f6281e24d42b04dc69b433e6c76</td>\n      <td>The Eloquent Savage Podcast</td>\n      <td>Some description</td>\n      <td>Professional | Sports &amp; Recreation</td>\n      <td>CoachSteve</td>\n      <td>fr</td>\n      <td>Some description</td>\n    </tr>\n    <tr>\n      <th>18046</th>\n      <td>6c447fc698984df799aa9cf7c3cd4919</td>\n      <td>O'Quinn Baptist Church</td>\n      <td>O'Quinn Baptist Church</td>\n      <td>Religion &amp; Spirituality | Christianity</td>\n      <td>Gerald A Greenlee Jr</td>\n      <td>ga</td>\n      <td>O'Quinn Baptist Church</td>\n    </tr>\n    <tr>\n      <th>136832</th>\n      <td>8fd7a79d9395474b9e25d50c5f9f4e13</td>\n      <td>Terça Livre: Detona News</td>\n      <td>Acesse nosso website - www.tercalivre.com.br</td>\n      <td>News &amp; Politics | TV &amp; Film</td>\n      <td>Terça Livre</td>\n      <td>it</td>\n      <td>Access our website - www.tercalivre.com.br</td>\n    </tr>\n  </tbody>\n</table>\n</div>"
     },
     "metadata": {},
     "execution_count": 19
    }
   ],
   "source": [
    "# Sanity check.\n",
    "non_english_df.sample(10)"
   ]
  },
  {
   "cell_type": "code",
   "execution_count": 20,
   "metadata": {},
   "outputs": [],
   "source": [
    "# Remove podcasts where translation did not work.\n",
    "non_english_df = non_english_df[non_english_df['description']==non_english_df['translation']]"
   ]
  },
  {
   "cell_type": "code",
   "execution_count": 21,
   "metadata": {},
   "outputs": [],
   "source": [
    "# Replace description column.\n",
    "non_english_df['description'] = non_english_df['translation']\n",
    "non_english_df.drop('translation', axis=1, inplace=True)"
   ]
  },
  {
   "cell_type": "code",
   "execution_count": 22,
   "metadata": {},
   "outputs": [],
   "source": [
    "# Put the dataframes back together.\n",
    "sample = pd.concat([english_df, non_english_df])"
   ]
  },
  {
   "cell_type": "code",
   "execution_count": 23,
   "metadata": {},
   "outputs": [
    {
     "output_type": "stream",
     "name": "stdout",
     "text": [
      "<class 'pandas.core.frame.DataFrame'>\nInt64Index: 47679 entries, 270496 to 286203\nData columns (total 6 columns):\n #   Column       Non-Null Count  Dtype \n---  ------       --------------  ----- \n 0   uuid         47679 non-null  object\n 1   title        47679 non-null  object\n 2   description  47679 non-null  object\n 3   categories   47679 non-null  object\n 4   author       47679 non-null  object\n 5   pred_lang    47679 non-null  object\ndtypes: object(6)\nmemory usage: 2.5+ MB\n"
     ]
    }
   ],
   "source": [
    "sample.info()"
   ]
  },
  {
   "cell_type": "code",
   "execution_count": 24,
   "metadata": {},
   "outputs": [],
   "source": [
    "# Save sampled translated podcasts to csv file.\n",
    "sample = sample[['uuid', 'title', 'description', 'pred_lang', 'categories', 'author']]\n",
    "sample.to_csv('../data/translated_podcast_samples.csv')"
   ]
  },
  {
   "cell_type": "code",
   "execution_count": null,
   "metadata": {},
   "outputs": [],
   "source": []
  }
 ],
 "metadata": {
  "kernelspec": {
   "name": "python377jvsc74a57bd0dca0ade3e726a953b501b15e8e990130d2b7799f14cfd9f4271676035ebe5511",
   "display_name": "Python 3.7.7 64-bit ('base': conda)"
  },
  "language_info": {
   "codemirror_mode": {
    "name": "ipython",
    "version": 3
   },
   "file_extension": ".py",
   "mimetype": "text/x-python",
   "name": "python",
   "nbconvert_exporter": "python",
   "pygments_lexer": "ipython3",
   "version": "3.7.7-final"
  }
 },
 "nbformat": 4,
 "nbformat_minor": 4
}