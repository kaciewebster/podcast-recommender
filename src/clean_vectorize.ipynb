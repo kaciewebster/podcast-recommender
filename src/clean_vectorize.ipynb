{
 "metadata": {
  "language_info": {
   "codemirror_mode": {
    "name": "ipython",
    "version": 3
   },
   "file_extension": ".py",
   "mimetype": "text/x-python",
   "name": "python",
   "nbconvert_exporter": "python",
   "pygments_lexer": "ipython3",
   "version": "3.7.7-final"
  },
  "orig_nbformat": 2,
  "kernelspec": {
   "name": "python377jvsc74a57bd0dca0ade3e726a953b501b15e8e990130d2b7799f14cfd9f4271676035ebe5511",
   "display_name": "Python 3.7.7 64-bit ('base': conda)"
  }
 },
 "nbformat": 4,
 "nbformat_minor": 2,
 "cells": [
  {
   "source": [
    "## Imports"
   ],
   "cell_type": "markdown",
   "metadata": {}
  },
  {
   "cell_type": "code",
   "execution_count": 25,
   "metadata": {},
   "outputs": [],
   "source": [
    "import pandas as pd\n",
    "import pickle\n",
    "import numpy as np\n",
    "\n",
    "import nltk\n",
    "from nltk.tokenize import word_tokenize\n",
    "from nltk.corpus import stopwords\n",
    "from nltk.stem.wordnet import WordNetLemmatizer\n",
    "import unicodedata\n",
    "import string\n",
    "\n",
    "from sklearn.feature_extraction.text import TfidfVectorizer\n",
    "from sklearn.metrics.pairwise import cosine_similarity"
   ]
  },
  {
   "source": [
    "## Load Data"
   ],
   "cell_type": "markdown",
   "metadata": {}
  },
  {
   "cell_type": "code",
   "execution_count": 26,
   "metadata": {},
   "outputs": [],
   "source": [
    "data = pd.read_csv('../data/translated_podcast_samples.csv')"
   ]
  },
  {
   "cell_type": "code",
   "execution_count": 27,
   "metadata": {},
   "outputs": [
    {
     "output_type": "stream",
     "name": "stdout",
     "text": [
      "<class 'pandas.core.frame.DataFrame'>\nRangeIndex: 47679 entries, 0 to 47678\nData columns (total 7 columns):\n #   Column       Non-Null Count  Dtype \n---  ------       --------------  ----- \n 0   Unnamed: 0   47679 non-null  int64 \n 1   uuid         47679 non-null  object\n 2   title        47679 non-null  object\n 3   description  47679 non-null  object\n 4   pred_lang    47679 non-null  object\n 5   categories   47679 non-null  object\n 6   author       47679 non-null  object\ndtypes: int64(1), object(6)\nmemory usage: 2.5+ MB\n"
     ]
    }
   ],
   "source": [
    "data.info()"
   ]
  },
  {
   "cell_type": "code",
   "execution_count": 28,
   "metadata": {},
   "outputs": [],
   "source": [
    "data.dropna(axis=0, inplace=True)"
   ]
  },
  {
   "cell_type": "code",
   "execution_count": 29,
   "metadata": {},
   "outputs": [
    {
     "output_type": "execute_result",
     "data": {
      "text/plain": [
       "47679"
      ]
     },
     "metadata": {},
     "execution_count": 29
    }
   ],
   "source": [
    "data['uuid'].nunique()"
   ]
  },
  {
   "cell_type": "code",
   "execution_count": 30,
   "metadata": {},
   "outputs": [],
   "source": [
    "data.drop('Unnamed: 0', axis=1, inplace=True)"
   ]
  },
  {
   "cell_type": "code",
   "execution_count": 31,
   "metadata": {},
   "outputs": [],
   "source": [
    "data['description'] = data['description'].str.replace('https?\\S+|www.\\S+', '', case=False)"
   ]
  },
  {
   "cell_type": "code",
   "execution_count": 32,
   "metadata": {},
   "outputs": [
    {
     "output_type": "execute_result",
     "data": {
      "text/plain": [
       "(47679, 6)"
      ]
     },
     "metadata": {},
     "execution_count": 32
    }
   ],
   "source": [
    "data.shape"
   ]
  },
  {
   "cell_type": "code",
   "execution_count": 33,
   "metadata": {},
   "outputs": [
    {
     "output_type": "execute_result",
     "data": {
      "text/plain": [
       "                               uuid                               title  \\\n",
       "0  c539085ab36a499eb25ab06505ce10c3                   RoomOfRequirement   \n",
       "1  8ad3e312defb4faab8f87946f6f67a13                       The Pollsters   \n",
       "2  5ac07e5979ac4c9d99db71962b468378                              BABME™   \n",
       "3  e22d49ae12dc44349bc9c1ae45d5f443  Baseball Tonight with Buster Olney   \n",
       "4  0443cb89bcf242d89d3075a381d794ee       Legacy Baptist Church Sermons   \n",
       "\n",
       "                                         description pred_lang  \\\n",
       "0  Room of Requirement is a podcast dedicated to ...        en   \n",
       "1  Politics. Policy. Polling. Pop Culture.\\n\\nExp...        en   \n",
       "2  BABME™ is a company that Micah Sanders (@micah...        en   \n",
       "3  ESPN MLB Insider Buster Olney leads the baseba...        en   \n",
       "4  AM and PM Sermons from the weekly services at ...        en   \n",
       "\n",
       "                                          categories               author  \n",
       "0                                    News & Politics  Room of Requirement  \n",
       "1  Social Sciences | Science & Medicine | Managem...            audioBoom  \n",
       "2                                             Comedy      BABME™ / Anchor  \n",
       "3                                Sports & Recreation           ESPN Radio  \n",
       "4             Christianity | Religion & Spirituality                Jamen  "
      ],
      "text/html": "<div>\n<style scoped>\n    .dataframe tbody tr th:only-of-type {\n        vertical-align: middle;\n    }\n\n    .dataframe tbody tr th {\n        vertical-align: top;\n    }\n\n    .dataframe thead th {\n        text-align: right;\n    }\n</style>\n<table border=\"1\" class=\"dataframe\">\n  <thead>\n    <tr style=\"text-align: right;\">\n      <th></th>\n      <th>uuid</th>\n      <th>title</th>\n      <th>description</th>\n      <th>pred_lang</th>\n      <th>categories</th>\n      <th>author</th>\n    </tr>\n  </thead>\n  <tbody>\n    <tr>\n      <th>0</th>\n      <td>c539085ab36a499eb25ab06505ce10c3</td>\n      <td>RoomOfRequirement</td>\n      <td>Room of Requirement is a podcast dedicated to ...</td>\n      <td>en</td>\n      <td>News &amp; Politics</td>\n      <td>Room of Requirement</td>\n    </tr>\n    <tr>\n      <th>1</th>\n      <td>8ad3e312defb4faab8f87946f6f67a13</td>\n      <td>The Pollsters</td>\n      <td>Politics. Policy. Polling. Pop Culture.\\n\\nExp...</td>\n      <td>en</td>\n      <td>Social Sciences | Science &amp; Medicine | Managem...</td>\n      <td>audioBoom</td>\n    </tr>\n    <tr>\n      <th>2</th>\n      <td>5ac07e5979ac4c9d99db71962b468378</td>\n      <td>BABME™</td>\n      <td>BABME™ is a company that Micah Sanders (@micah...</td>\n      <td>en</td>\n      <td>Comedy</td>\n      <td>BABME™ / Anchor</td>\n    </tr>\n    <tr>\n      <th>3</th>\n      <td>e22d49ae12dc44349bc9c1ae45d5f443</td>\n      <td>Baseball Tonight with Buster Olney</td>\n      <td>ESPN MLB Insider Buster Olney leads the baseba...</td>\n      <td>en</td>\n      <td>Sports &amp; Recreation</td>\n      <td>ESPN Radio</td>\n    </tr>\n    <tr>\n      <th>4</th>\n      <td>0443cb89bcf242d89d3075a381d794ee</td>\n      <td>Legacy Baptist Church Sermons</td>\n      <td>AM and PM Sermons from the weekly services at ...</td>\n      <td>en</td>\n      <td>Christianity | Religion &amp; Spirituality</td>\n      <td>Jamen</td>\n    </tr>\n  </tbody>\n</table>\n</div>"
     },
     "metadata": {},
     "execution_count": 33
    }
   ],
   "source": [
    "data.head()"
   ]
  },
  {
   "cell_type": "code",
   "execution_count": 34,
   "metadata": {},
   "outputs": [
    {
     "output_type": "execute_result",
     "data": {
      "text/plain": [
       "'Room of Requirement is a podcast dedicated to reason and resilience in the Time of Trump. Hosted by Miracle Jones and Kamalesh Rao and based in Jackson Heights, Queens, the podcast aims to be a voice of advocacy for democracy and human rights.'"
      ]
     },
     "metadata": {},
     "execution_count": 34
    }
   ],
   "source": [
    "descriptions = data['description'].to_list()\n",
    "descriptions[0]"
   ]
  },
  {
   "source": [
    "## Clean Text"
   ],
   "cell_type": "markdown",
   "metadata": {}
  },
  {
   "cell_type": "code",
   "execution_count": 35,
   "metadata": {},
   "outputs": [],
   "source": [
    "# Create remove_accents function.\n",
    "def remove_accents(input_str):\n",
    "    nfkd_form = unicodedata.normalize('NFKD', input_str)\n",
    "    only_ascii = nfkd_form.encode('ASCII', 'ignore')\n",
    "    return only_ascii.decode()"
   ]
  },
  {
   "cell_type": "code",
   "execution_count": 36,
   "metadata": {},
   "outputs": [],
   "source": [
    "# Create clean_text function.\n",
    "def clean_text(docs):\n",
    "    # Make all words in documents lowercase.\n",
    "    low_docs = [doc.lower() for doc in docs]\n",
    "    # Remove all accents from documents.\n",
    "    acc_docs = [remove_accents(doc) for doc in low_docs]\n",
    "    # Tokenize each document.\n",
    "    tokens = [word_tokenize(doc) for doc in acc_docs]\n",
    "    # Remove stopwords and punctuation.\n",
    "    stopwords_ = set(stopwords.words('english'))\n",
    "    punctuation_ = set(string.punctuation)\n",
    "    tokens = [[word for word in token if word not in stopwords_ and word not in punctuation_] for token in tokens]\n",
    "    # Apply Lemmatizer Stemmer.\n",
    "    lemmatizer = WordNetLemmatizer()\n",
    "    lemmatize_tokens = [list(map(lemmatizer.lemmatize, token)) for token in tokens]\n",
    "    # Join tokens in each document.\n",
    "    token_docs = [' '.join(tokens) for tokens in lemmatize_tokens]\n",
    "    return token_docs"
   ]
  },
  {
   "cell_type": "code",
   "execution_count": 37,
   "metadata": {},
   "outputs": [],
   "source": [
    "clean_descriptions = clean_text(descriptions)"
   ]
  },
  {
   "cell_type": "code",
   "execution_count": 38,
   "metadata": {},
   "outputs": [
    {
     "output_type": "execute_result",
     "data": {
      "text/plain": [
       "'room requirement podcast dedicated reason resilience time trump hosted miracle jones kamalesh rao based jackson height queen podcast aim voice advocacy democracy human right'"
      ]
     },
     "metadata": {},
     "execution_count": 38
    }
   ],
   "source": [
    "clean_descriptions[0]"
   ]
  },
  {
   "source": [
    "## Vectorize"
   ],
   "cell_type": "markdown",
   "metadata": {}
  },
  {
   "cell_type": "code",
   "execution_count": 39,
   "metadata": {},
   "outputs": [],
   "source": [
    "tfidf = TfidfVectorizer(min_df=3, max_df=0.5)\n",
    "tfidf_matrix = tfidf.fit_transform(clean_descriptions)"
   ]
  },
  {
   "cell_type": "code",
   "execution_count": 40,
   "metadata": {},
   "outputs": [
    {
     "output_type": "execute_result",
     "data": {
      "text/plain": [
       "(47679, 18406)"
      ]
     },
     "metadata": {},
     "execution_count": 40
    }
   ],
   "source": [
    "tfidf_matrix.shape"
   ]
  },
  {
   "cell_type": "code",
   "execution_count": 41,
   "metadata": {},
   "outputs": [
    {
     "output_type": "execute_result",
     "data": {
      "text/plain": [
       "(47679, 18406)"
      ]
     },
     "metadata": {},
     "execution_count": 41
    }
   ],
   "source": [
    "tfidf_matrix = tfidf_matrix.toarray()\n",
    "feature_names = tfidf.get_feature_names()\n",
    "feature_df = pd.DataFrame(tfidf_matrix, index=data['title'], columns=feature_names)\n",
    "feature_df.shape"
   ]
  },
  {
   "source": [
    "## Make Recommendations"
   ],
   "cell_type": "markdown",
   "metadata": {}
  },
  {
   "cell_type": "code",
   "execution_count": 66,
   "metadata": {},
   "outputs": [
    {
     "output_type": "execute_result",
     "data": {
      "text/plain": [
       "(1, 18406)"
      ]
     },
     "metadata": {},
     "execution_count": 66
    }
   ],
   "source": [
    "test = ['how to get my dog to go poop']\n",
    "cleaned_test = clean_text(test)\n",
    "test_matrix = tfidf.transform(cleaned_test)\n",
    "test_matrix = test_matrix.toarray()\n",
    "feature_names = tfidf.get_feature_names()\n",
    "test_df = pd.DataFrame(test_matrix, index=['test'], columns=feature_names)\n",
    "test_df.shape"
   ]
  },
  {
   "cell_type": "code",
   "execution_count": 67,
   "metadata": {},
   "outputs": [
    {
     "output_type": "execute_result",
     "data": {
      "text/plain": [
       "array([0., 0., 0., ..., 0., 0., 0.])"
      ]
     },
     "metadata": {},
     "execution_count": 67
    }
   ],
   "source": [
    "test_similarities = cosine_similarity(feature_df, test_df).T[0]\n",
    "test_similarities"
   ]
  },
  {
   "cell_type": "code",
   "execution_count": 68,
   "metadata": {},
   "outputs": [
    {
     "output_type": "execute_result",
     "data": {
      "text/plain": [
       "(47679,)"
      ]
     },
     "metadata": {},
     "execution_count": 68
    }
   ],
   "source": [
    "test_similarities.shape"
   ]
  },
  {
   "cell_type": "code",
   "execution_count": 69,
   "metadata": {},
   "outputs": [],
   "source": [
    "num_recs = 3"
   ]
  },
  {
   "cell_type": "code",
   "execution_count": 70,
   "metadata": {},
   "outputs": [
    {
     "output_type": "execute_result",
     "data": {
      "text/plain": [
       "array([38396, 41886, 29695])"
      ]
     },
     "metadata": {},
     "execution_count": 70
    }
   ],
   "source": [
    "idxs = test_similarities.argsort()[-(num_recs):]\n",
    "idxs"
   ]
  },
  {
   "cell_type": "code",
   "execution_count": 71,
   "metadata": {},
   "outputs": [
    {
     "output_type": "execute_result",
     "data": {
      "text/plain": [
       "['Pups n PopCulture - The Podcast for Dog Lovers',\n",
       " 'Can I Pet Your Dog?',\n",
       " 'Der Hunderatgeber-alles Rund um den Hund']"
      ]
     },
     "metadata": {},
     "execution_count": 71
    }
   ],
   "source": [
    "list(feature_df.iloc[idxs].index)"
   ]
  },
  {
   "cell_type": "code",
   "execution_count": null,
   "metadata": {},
   "outputs": [],
   "source": []
  }
 ]
}