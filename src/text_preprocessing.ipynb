{
 "cells": [
  {
   "cell_type": "markdown",
   "metadata": {},
   "source": [
    "# Text Preprocessing"
   ]
  },
  {
   "cell_type": "code",
   "execution_count": 1,
   "metadata": {},
   "outputs": [],
   "source": [
    "import pandas as pd\n",
    "import pickle\n",
    "import numpy as np\n",
    "\n",
    "import nltk\n",
    "from nltk.tokenize import word_tokenize\n",
    "from nltk.corpus import stopwords\n",
    "from nltk.stem.porter import PorterStemmer\n",
    "from nltk.stem.snowball import SnowballStemmer\n",
    "from nltk.stem.wordnet import WordNetLemmatizer\n",
    "import unicodedata\n",
    "import string\n",
    "from sklearn.feature_extraction.text import CountVectorizer\n",
    "from sklearn.metrics.pairwise import cosine_similarity"
   ]
  },
  {
   "cell_type": "markdown",
   "metadata": {},
   "source": [
    "## Load Data"
   ]
  },
  {
   "cell_type": "code",
   "execution_count": 2,
   "metadata": {},
   "outputs": [],
   "source": [
    "data = pd.read_csv('../data/translated_podcast_samples.csv')"
   ]
  },
  {
   "cell_type": "code",
   "execution_count": 3,
   "metadata": {},
   "outputs": [
    {
     "output_type": "stream",
     "name": "stdout",
     "text": [
      "<class 'pandas.core.frame.DataFrame'>\nRangeIndex: 19126 entries, 0 to 19125\nData columns (total 7 columns):\n #   Column       Non-Null Count  Dtype \n---  ------       --------------  ----- \n 0   Unnamed: 0   19126 non-null  int64 \n 1   uuid         19126 non-null  object\n 2   title        19126 non-null  object\n 3   description  19126 non-null  object\n 4   pred_lang    19126 non-null  object\n 5   categories   19126 non-null  object\n 6   author       19126 non-null  object\ndtypes: int64(1), object(6)\nmemory usage: 1.0+ MB\n"
     ]
    }
   ],
   "source": [
    "data.info()"
   ]
  },
  {
   "cell_type": "markdown",
   "metadata": {},
   "source": [
    "## Clean Data"
   ]
  },
  {
   "cell_type": "code",
   "execution_count": 4,
   "metadata": {},
   "outputs": [],
   "source": [
    "# Drop null values.\n",
    "data.dropna(axis=0, inplace=True)"
   ]
  },
  {
   "cell_type": "code",
   "execution_count": 5,
   "metadata": {},
   "outputs": [
    {
     "output_type": "stream",
     "name": "stdout",
     "text": [
      "<class 'pandas.core.frame.DataFrame'>\nInt64Index: 19126 entries, 0 to 19125\nData columns (total 7 columns):\n #   Column       Non-Null Count  Dtype \n---  ------       --------------  ----- \n 0   Unnamed: 0   19126 non-null  int64 \n 1   uuid         19126 non-null  object\n 2   title        19126 non-null  object\n 3   description  19126 non-null  object\n 4   pred_lang    19126 non-null  object\n 5   categories   19126 non-null  object\n 6   author       19126 non-null  object\ndtypes: int64(1), object(6)\nmemory usage: 1.2+ MB\n"
     ]
    }
   ],
   "source": [
    "data.info()"
   ]
  },
  {
   "cell_type": "code",
   "execution_count": 6,
   "metadata": {},
   "outputs": [
    {
     "output_type": "execute_result",
     "data": {
      "text/plain": [
       "19126"
      ]
     },
     "metadata": {},
     "execution_count": 6
    }
   ],
   "source": [
    "# Check for uuid uniqueness.\n",
    "data['uuid'].nunique()"
   ]
  },
  {
   "cell_type": "code",
   "execution_count": 7,
   "metadata": {},
   "outputs": [],
   "source": [
    "# Drop extra index column.\n",
    "data.drop('Unnamed: 0', axis=1, inplace=True)"
   ]
  },
  {
   "cell_type": "code",
   "execution_count": 8,
   "metadata": {},
   "outputs": [
    {
     "output_type": "execute_result",
     "data": {
      "text/plain": [
       "                               uuid                               title  \\\n",
       "0  c539085ab36a499eb25ab06505ce10c3                   RoomOfRequirement   \n",
       "1  8ad3e312defb4faab8f87946f6f67a13                       The Pollsters   \n",
       "2  5ac07e5979ac4c9d99db71962b468378                              BABME™   \n",
       "3  e22d49ae12dc44349bc9c1ae45d5f443  Baseball Tonight with Buster Olney   \n",
       "4  0443cb89bcf242d89d3075a381d794ee       Legacy Baptist Church Sermons   \n",
       "\n",
       "                                         description pred_lang  \\\n",
       "0  Room of Requirement is a podcast dedicated to ...        en   \n",
       "1  Politics. Policy. Polling. Pop Culture.\\n\\nExp...        en   \n",
       "2  BABME™ is a company that Micah Sanders (@micah...        en   \n",
       "3  ESPN MLB Insider Buster Olney leads the baseba...        en   \n",
       "4  AM and PM Sermons from the weekly services at ...        en   \n",
       "\n",
       "                                          categories               author  \n",
       "0                                    News & Politics  Room of Requirement  \n",
       "1  Social Sciences | Science & Medicine | Managem...            audioBoom  \n",
       "2                                             Comedy      BABME™ / Anchor  \n",
       "3                                Sports & Recreation           ESPN Radio  \n",
       "4             Christianity | Religion & Spirituality                Jamen  "
      ],
      "text/html": "<div>\n<style scoped>\n    .dataframe tbody tr th:only-of-type {\n        vertical-align: middle;\n    }\n\n    .dataframe tbody tr th {\n        vertical-align: top;\n    }\n\n    .dataframe thead th {\n        text-align: right;\n    }\n</style>\n<table border=\"1\" class=\"dataframe\">\n  <thead>\n    <tr style=\"text-align: right;\">\n      <th></th>\n      <th>uuid</th>\n      <th>title</th>\n      <th>description</th>\n      <th>pred_lang</th>\n      <th>categories</th>\n      <th>author</th>\n    </tr>\n  </thead>\n  <tbody>\n    <tr>\n      <th>0</th>\n      <td>c539085ab36a499eb25ab06505ce10c3</td>\n      <td>RoomOfRequirement</td>\n      <td>Room of Requirement is a podcast dedicated to ...</td>\n      <td>en</td>\n      <td>News &amp; Politics</td>\n      <td>Room of Requirement</td>\n    </tr>\n    <tr>\n      <th>1</th>\n      <td>8ad3e312defb4faab8f87946f6f67a13</td>\n      <td>The Pollsters</td>\n      <td>Politics. Policy. Polling. Pop Culture.\\n\\nExp...</td>\n      <td>en</td>\n      <td>Social Sciences | Science &amp; Medicine | Managem...</td>\n      <td>audioBoom</td>\n    </tr>\n    <tr>\n      <th>2</th>\n      <td>5ac07e5979ac4c9d99db71962b468378</td>\n      <td>BABME™</td>\n      <td>BABME™ is a company that Micah Sanders (@micah...</td>\n      <td>en</td>\n      <td>Comedy</td>\n      <td>BABME™ / Anchor</td>\n    </tr>\n    <tr>\n      <th>3</th>\n      <td>e22d49ae12dc44349bc9c1ae45d5f443</td>\n      <td>Baseball Tonight with Buster Olney</td>\n      <td>ESPN MLB Insider Buster Olney leads the baseba...</td>\n      <td>en</td>\n      <td>Sports &amp; Recreation</td>\n      <td>ESPN Radio</td>\n    </tr>\n    <tr>\n      <th>4</th>\n      <td>0443cb89bcf242d89d3075a381d794ee</td>\n      <td>Legacy Baptist Church Sermons</td>\n      <td>AM and PM Sermons from the weekly services at ...</td>\n      <td>en</td>\n      <td>Christianity | Religion &amp; Spirituality</td>\n      <td>Jamen</td>\n    </tr>\n  </tbody>\n</table>\n</div>"
     },
     "metadata": {},
     "execution_count": 8
    }
   ],
   "source": [
    "data.head()"
   ]
  },
  {
   "cell_type": "code",
   "execution_count": 9,
   "metadata": {},
   "outputs": [],
   "source": [
    "# Remove any hyperlinks hidden in the descriptions.\n",
    "data['description'] = data['description'].str.replace('http\\S+|www.\\S+', '', case=False)"
   ]
  },
  {
   "cell_type": "code",
   "execution_count": 10,
   "metadata": {},
   "outputs": [
    {
     "output_type": "execute_result",
     "data": {
      "text/plain": [
       "(19126, 6)"
      ]
     },
     "metadata": {},
     "execution_count": 10
    }
   ],
   "source": [
    "data.shape"
   ]
  },
  {
   "cell_type": "markdown",
   "metadata": {},
   "source": [
    "## Clean Text"
   ]
  },
  {
   "cell_type": "code",
   "execution_count": 11,
   "metadata": {},
   "outputs": [
    {
     "output_type": "execute_result",
     "data": {
      "text/plain": [
       "'Room of Requirement is a podcast dedicated to reason and resilience in the Time of Trump. Hosted by Miracle Jones and Kamalesh Rao and based in Jackson Heights, Queens, the podcast aims to be a voice of advocacy for democracy and human rights.'"
      ]
     },
     "metadata": {},
     "execution_count": 11
    }
   ],
   "source": [
    "# List where each element is a string of the description.\n",
    "descriptions = data['description'].to_list()\n",
    "descriptions[0]"
   ]
  },
  {
   "cell_type": "code",
   "execution_count": 12,
   "metadata": {},
   "outputs": [
    {
     "output_type": "execute_result",
     "data": {
      "text/plain": [
       "'News & Politics'"
      ]
     },
     "metadata": {},
     "execution_count": 12
    }
   ],
   "source": [
    "# List where each element is a string of the category.\n",
    "categories = data['categories'].to_list()\n",
    "categories[0]"
   ]
  },
  {
   "cell_type": "code",
   "execution_count": 13,
   "metadata": {},
   "outputs": [],
   "source": [
    "# Create remove_accents function.\n",
    "def remove_accents(input_str):\n",
    "    nfkd_form = unicodedata.normalize('NFKD', input_str)\n",
    "    only_ascii = nfkd_form.encode('ASCII', 'ignore')\n",
    "    return only_ascii.decode()"
   ]
  },
  {
   "cell_type": "code",
   "execution_count": 14,
   "metadata": {},
   "outputs": [],
   "source": [
    "# Create clean_text function.\n",
    "def clean_text(docs):\n",
    "    # Make all words in documents lowercase.\n",
    "    low_docs = [doc.lower() for doc in docs]\n",
    "    # Remove all accents from documents.\n",
    "    acc_docs = [remove_accents(doc) for doc in low_docs]\n",
    "    # Tokenize each document.\n",
    "    tokens = [word_tokenize(doc) for doc in acc_docs]\n",
    "    # Remove stopwords and punctuation.\n",
    "    stopwords_ = set(stopwords.words('english'))\n",
    "    punctuation_ = set(string.punctuation)\n",
    "    tokens = [[word for word in token if word not in stopwords_ and word not in punctuation_] for token in tokens]\n",
    "    # Apply Snowball Stemmer.\n",
    "    snowball = SnowballStemmer('english')\n",
    "    snowball_tokens = [list(map(snowball.stem, token)) for token in tokens]\n",
    "    # Join tokens in each document.\n",
    "    token_docs = [' '.join(tokens) for tokens in snowball_tokens]\n",
    "    return token_docs"
   ]
  },
  {
   "cell_type": "code",
   "execution_count": 15,
   "metadata": {},
   "outputs": [],
   "source": [
    "# Create clean_cat function.\n",
    "def clean_cat(docs):\n",
    "    # Make all words in documents lowercase.\n",
    "    low_docs = [doc.lower() for doc in docs]\n",
    "    # Remove all accents from documents.\n",
    "    acc_docs = [remove_accents(doc) for doc in low_docs]\n",
    "    # Tokenize each document.\n",
    "    tokens = [word_tokenize(doc) for doc in acc_docs]\n",
    "    # Remove stopwords and punctuation.\n",
    "    stopwords_ = set(stopwords.words('english'))\n",
    "    punctuation_ = set(string.punctuation)\n",
    "    docs = [[word for word in token if word not in stopwords_ and word not in punctuation_] for token in tokens]\n",
    "    # Apply Snowball Stemmer.\n",
    "    ## snowball = SnowballStemmer('english')\n",
    "    ## snowball_tokens = [list(map(snowball.stem, token)) for token in tokens]\n",
    "    # Join tokens in each document.\n",
    "    token_docs = [' '.join(tokens) for tokens in docs]\n",
    "    return token_docs"
   ]
  },
  {
   "cell_type": "code",
   "execution_count": 16,
   "metadata": {},
   "outputs": [],
   "source": [
    "descriptions = clean_text(descriptions)"
   ]
  },
  {
   "cell_type": "code",
   "execution_count": 17,
   "metadata": {},
   "outputs": [
    {
     "output_type": "execute_result",
     "data": {
      "text/plain": [
       "'room requir podcast dedic reason resili time trump host miracl jone kamalesh rao base jackson height queen podcast aim voic advocaci democraci human right'"
      ]
     },
     "metadata": {},
     "execution_count": 17
    }
   ],
   "source": [
    "descriptions[0]"
   ]
  },
  {
   "cell_type": "code",
   "execution_count": 18,
   "metadata": {},
   "outputs": [],
   "source": [
    "categories = clean_cat(categories)"
   ]
  },
  {
   "cell_type": "code",
   "execution_count": 19,
   "metadata": {},
   "outputs": [
    {
     "output_type": "execute_result",
     "data": {
      "text/plain": [
       "'news politics'"
      ]
     },
     "metadata": {},
     "execution_count": 19
    }
   ],
   "source": [
    "categories[0]"
   ]
  },
  {
   "cell_type": "markdown",
   "metadata": {},
   "source": [
    "__I'll use the snowball stemmer because I feel that it reduced the words efficiently without losing meaning.__\n",
    "\n",
    "__ie. 'month' and 'develop' instead of 'monthly' and 'developing'__"
   ]
  },
  {
   "cell_type": "markdown",
   "metadata": {},
   "source": [
    "## Create Feature Matrix"
   ]
  },
  {
   "cell_type": "code",
   "execution_count": 20,
   "metadata": {},
   "outputs": [],
   "source": [
    "# Vectorize descriptions and categories.\n",
    "cv_descriptions = CountVectorizer()\n",
    "cv_categories = CountVectorizer()\n",
    "X_descriptions = cv_descriptions.fit_transform(descriptions)\n",
    "X_categories = cv_categories.fit_transform(categories)"
   ]
  },
  {
   "cell_type": "code",
   "execution_count": 21,
   "metadata": {},
   "outputs": [
    {
     "output_type": "execute_result",
     "data": {
      "text/plain": [
       "(19126, 34180)"
      ]
     },
     "metadata": {},
     "execution_count": 21
    }
   ],
   "source": [
    "X_descriptions.shape"
   ]
  },
  {
   "cell_type": "code",
   "execution_count": 22,
   "metadata": {},
   "outputs": [
    {
     "output_type": "execute_result",
     "data": {
      "text/plain": [
       "(19126, 83)"
      ]
     },
     "metadata": {},
     "execution_count": 22
    }
   ],
   "source": [
    "X_categories.shape"
   ]
  },
  {
   "cell_type": "code",
   "execution_count": 23,
   "metadata": {},
   "outputs": [
    {
     "output_type": "execute_result",
     "data": {
      "text/plain": [
       "(19126, 34180)"
      ]
     },
     "metadata": {},
     "execution_count": 23
    }
   ],
   "source": [
    "# Change X_descriptions into a dataframe.\n",
    "X_descriptions = X_descriptions.toarray()\n",
    "feature_names = cv_descriptions.get_feature_names()\n",
    "descriptions_df = pd.DataFrame(X_descriptions, index=data['title'], columns=feature_names)\n",
    "descriptions_df.shape"
   ]
  },
  {
   "cell_type": "code",
   "execution_count": 24,
   "metadata": {},
   "outputs": [
    {
     "output_type": "execute_result",
     "data": {
      "text/plain": [
       "                                    00  000  001  007  0084  0096  00a  00am  \\\n",
       "title                                                                          \n",
       "RoomOfRequirement                    0    0    0    0     0     0    0     0   \n",
       "The Pollsters                        0    0    0    0     0     0    0     0   \n",
       "BABME™                               0    0    0    0     0     0    0     0   \n",
       "Baseball Tonight with Buster Olney   0    0    0    0     0     0    0     0   \n",
       "Legacy Baptist Church Sermons        0    0    0    0     0     0    0     0   \n",
       "\n",
       "                                    00p  00pm  ...  zurich  zurita  zweig  \\\n",
       "title                                          ...                          \n",
       "RoomOfRequirement                     0     0  ...       0       0      0   \n",
       "The Pollsters                         0     0  ...       0       0      0   \n",
       "BABME™                                0     0  ...       0       0      0   \n",
       "Baseball Tonight with Buster Olney    0     0  ...       0       0      0   \n",
       "Legacy Baptist Church Sermons         0     0  ...       0       0      0   \n",
       "\n",
       "                                    zwell  zwicker  zydeco  zyla  zylka  \\\n",
       "title                                                                     \n",
       "RoomOfRequirement                       0        0       0     0      0   \n",
       "The Pollsters                           0        0       0     0      0   \n",
       "BABME™                                  0        0       0     0      0   \n",
       "Baseball Tonight with Buster Olney      0        0       0     0      0   \n",
       "Legacy Baptist Church Sermons           0        0       0     0      0   \n",
       "\n",
       "                                    zyuzyaev  zyx  \n",
       "title                                              \n",
       "RoomOfRequirement                          0    0  \n",
       "The Pollsters                              0    0  \n",
       "BABME™                                     0    0  \n",
       "Baseball Tonight with Buster Olney         0    0  \n",
       "Legacy Baptist Church Sermons              0    0  \n",
       "\n",
       "[5 rows x 34180 columns]"
      ],
      "text/html": "<div>\n<style scoped>\n    .dataframe tbody tr th:only-of-type {\n        vertical-align: middle;\n    }\n\n    .dataframe tbody tr th {\n        vertical-align: top;\n    }\n\n    .dataframe thead th {\n        text-align: right;\n    }\n</style>\n<table border=\"1\" class=\"dataframe\">\n  <thead>\n    <tr style=\"text-align: right;\">\n      <th></th>\n      <th>00</th>\n      <th>000</th>\n      <th>001</th>\n      <th>007</th>\n      <th>0084</th>\n      <th>0096</th>\n      <th>00a</th>\n      <th>00am</th>\n      <th>00p</th>\n      <th>00pm</th>\n      <th>...</th>\n      <th>zurich</th>\n      <th>zurita</th>\n      <th>zweig</th>\n      <th>zwell</th>\n      <th>zwicker</th>\n      <th>zydeco</th>\n      <th>zyla</th>\n      <th>zylka</th>\n      <th>zyuzyaev</th>\n      <th>zyx</th>\n    </tr>\n    <tr>\n      <th>title</th>\n      <th></th>\n      <th></th>\n      <th></th>\n      <th></th>\n      <th></th>\n      <th></th>\n      <th></th>\n      <th></th>\n      <th></th>\n      <th></th>\n      <th></th>\n      <th></th>\n      <th></th>\n      <th></th>\n      <th></th>\n      <th></th>\n      <th></th>\n      <th></th>\n      <th></th>\n      <th></th>\n      <th></th>\n    </tr>\n  </thead>\n  <tbody>\n    <tr>\n      <th>RoomOfRequirement</th>\n      <td>0</td>\n      <td>0</td>\n      <td>0</td>\n      <td>0</td>\n      <td>0</td>\n      <td>0</td>\n      <td>0</td>\n      <td>0</td>\n      <td>0</td>\n      <td>0</td>\n      <td>...</td>\n      <td>0</td>\n      <td>0</td>\n      <td>0</td>\n      <td>0</td>\n      <td>0</td>\n      <td>0</td>\n      <td>0</td>\n      <td>0</td>\n      <td>0</td>\n      <td>0</td>\n    </tr>\n    <tr>\n      <th>The Pollsters</th>\n      <td>0</td>\n      <td>0</td>\n      <td>0</td>\n      <td>0</td>\n      <td>0</td>\n      <td>0</td>\n      <td>0</td>\n      <td>0</td>\n      <td>0</td>\n      <td>0</td>\n      <td>...</td>\n      <td>0</td>\n      <td>0</td>\n      <td>0</td>\n      <td>0</td>\n      <td>0</td>\n      <td>0</td>\n      <td>0</td>\n      <td>0</td>\n      <td>0</td>\n      <td>0</td>\n    </tr>\n    <tr>\n      <th>BABME™</th>\n      <td>0</td>\n      <td>0</td>\n      <td>0</td>\n      <td>0</td>\n      <td>0</td>\n      <td>0</td>\n      <td>0</td>\n      <td>0</td>\n      <td>0</td>\n      <td>0</td>\n      <td>...</td>\n      <td>0</td>\n      <td>0</td>\n      <td>0</td>\n      <td>0</td>\n      <td>0</td>\n      <td>0</td>\n      <td>0</td>\n      <td>0</td>\n      <td>0</td>\n      <td>0</td>\n    </tr>\n    <tr>\n      <th>Baseball Tonight with Buster Olney</th>\n      <td>0</td>\n      <td>0</td>\n      <td>0</td>\n      <td>0</td>\n      <td>0</td>\n      <td>0</td>\n      <td>0</td>\n      <td>0</td>\n      <td>0</td>\n      <td>0</td>\n      <td>...</td>\n      <td>0</td>\n      <td>0</td>\n      <td>0</td>\n      <td>0</td>\n      <td>0</td>\n      <td>0</td>\n      <td>0</td>\n      <td>0</td>\n      <td>0</td>\n      <td>0</td>\n    </tr>\n    <tr>\n      <th>Legacy Baptist Church Sermons</th>\n      <td>0</td>\n      <td>0</td>\n      <td>0</td>\n      <td>0</td>\n      <td>0</td>\n      <td>0</td>\n      <td>0</td>\n      <td>0</td>\n      <td>0</td>\n      <td>0</td>\n      <td>...</td>\n      <td>0</td>\n      <td>0</td>\n      <td>0</td>\n      <td>0</td>\n      <td>0</td>\n      <td>0</td>\n      <td>0</td>\n      <td>0</td>\n      <td>0</td>\n      <td>0</td>\n    </tr>\n  </tbody>\n</table>\n<p>5 rows × 34180 columns</p>\n</div>"
     },
     "metadata": {},
     "execution_count": 24
    }
   ],
   "source": [
    "descriptions_df.head()"
   ]
  },
  {
   "cell_type": "code",
   "execution_count": 25,
   "metadata": {},
   "outputs": [
    {
     "output_type": "execute_result",
     "data": {
      "text/plain": [
       "(19126, 83)"
      ]
     },
     "metadata": {},
     "execution_count": 25
    }
   ],
   "source": [
    "# Change X_categories into a dataframe.\n",
    "X_categories = X_categories.toarray()\n",
    "feature_names = cv_categories.get_feature_names()\n",
    "categories_df = pd.DataFrame(X_categories, index=data['title'], columns=feature_names)\n",
    "categories_df.shape"
   ]
  },
  {
   "cell_type": "code",
   "execution_count": 26,
   "metadata": {},
   "outputs": [
    {
     "output_type": "execute_result",
     "data": {
      "text/plain": [
       "                                    12  alternative  amateur  arts  \\\n",
       "title                                                                \n",
       "RoomOfRequirement                    0            0        0     0   \n",
       "The Pollsters                        0            0        0     0   \n",
       "BABME™                               0            0        0     0   \n",
       "Baseball Tonight with Buster Olney   0            0        0     0   \n",
       "Legacy Baptist Church Sermons        0            0        0     0   \n",
       "\n",
       "                                    automotive  aviation  beauty  buddhism  \\\n",
       "title                                                                        \n",
       "RoomOfRequirement                            0         0       0         0   \n",
       "The Pollsters                                0         0       0         0   \n",
       "BABME™                                       0         0       0         0   \n",
       "Baseball Tonight with Buster Olney           0         0       0         0   \n",
       "Legacy Baptist Church Sermons                0         0       0         0   \n",
       "\n",
       "                                    business  careers  ...  spirituality  \\\n",
       "title                                                  ...                 \n",
       "RoomOfRequirement                          0        0  ...             0   \n",
       "The Pollsters                              1        0  ...             0   \n",
       "BABME™                                     0        0  ...             0   \n",
       "Baseball Tonight with Buster Olney         0        0  ...             0   \n",
       "Legacy Baptist Church Sermons              0        0  ...             1   \n",
       "\n",
       "                                    sports  tech  technology  to  training  \\\n",
       "title                                                                        \n",
       "RoomOfRequirement                        0     0           0   0         0   \n",
       "The Pollsters                            0     0           0   0         0   \n",
       "BABME™                                   0     0           0   0         0   \n",
       "Baseball Tonight with Buster Olney       1     0           0   0         0   \n",
       "Legacy Baptist Church Sermons            0     0           0   0         0   \n",
       "\n",
       "                                    travel  tv  video  visual  \n",
       "title                                                          \n",
       "RoomOfRequirement                        0   0      0       0  \n",
       "The Pollsters                            0   0      0       0  \n",
       "BABME™                                   0   0      0       0  \n",
       "Baseball Tonight with Buster Olney       0   0      0       0  \n",
       "Legacy Baptist Church Sermons            0   0      0       0  \n",
       "\n",
       "[5 rows x 83 columns]"
      ],
      "text/html": "<div>\n<style scoped>\n    .dataframe tbody tr th:only-of-type {\n        vertical-align: middle;\n    }\n\n    .dataframe tbody tr th {\n        vertical-align: top;\n    }\n\n    .dataframe thead th {\n        text-align: right;\n    }\n</style>\n<table border=\"1\" class=\"dataframe\">\n  <thead>\n    <tr style=\"text-align: right;\">\n      <th></th>\n      <th>12</th>\n      <th>alternative</th>\n      <th>amateur</th>\n      <th>arts</th>\n      <th>automotive</th>\n      <th>aviation</th>\n      <th>beauty</th>\n      <th>buddhism</th>\n      <th>business</th>\n      <th>careers</th>\n      <th>...</th>\n      <th>spirituality</th>\n      <th>sports</th>\n      <th>tech</th>\n      <th>technology</th>\n      <th>to</th>\n      <th>training</th>\n      <th>travel</th>\n      <th>tv</th>\n      <th>video</th>\n      <th>visual</th>\n    </tr>\n    <tr>\n      <th>title</th>\n      <th></th>\n      <th></th>\n      <th></th>\n      <th></th>\n      <th></th>\n      <th></th>\n      <th></th>\n      <th></th>\n      <th></th>\n      <th></th>\n      <th></th>\n      <th></th>\n      <th></th>\n      <th></th>\n      <th></th>\n      <th></th>\n      <th></th>\n      <th></th>\n      <th></th>\n      <th></th>\n      <th></th>\n    </tr>\n  </thead>\n  <tbody>\n    <tr>\n      <th>RoomOfRequirement</th>\n      <td>0</td>\n      <td>0</td>\n      <td>0</td>\n      <td>0</td>\n      <td>0</td>\n      <td>0</td>\n      <td>0</td>\n      <td>0</td>\n      <td>0</td>\n      <td>0</td>\n      <td>...</td>\n      <td>0</td>\n      <td>0</td>\n      <td>0</td>\n      <td>0</td>\n      <td>0</td>\n      <td>0</td>\n      <td>0</td>\n      <td>0</td>\n      <td>0</td>\n      <td>0</td>\n    </tr>\n    <tr>\n      <th>The Pollsters</th>\n      <td>0</td>\n      <td>0</td>\n      <td>0</td>\n      <td>0</td>\n      <td>0</td>\n      <td>0</td>\n      <td>0</td>\n      <td>0</td>\n      <td>1</td>\n      <td>0</td>\n      <td>...</td>\n      <td>0</td>\n      <td>0</td>\n      <td>0</td>\n      <td>0</td>\n      <td>0</td>\n      <td>0</td>\n      <td>0</td>\n      <td>0</td>\n      <td>0</td>\n      <td>0</td>\n    </tr>\n    <tr>\n      <th>BABME™</th>\n      <td>0</td>\n      <td>0</td>\n      <td>0</td>\n      <td>0</td>\n      <td>0</td>\n      <td>0</td>\n      <td>0</td>\n      <td>0</td>\n      <td>0</td>\n      <td>0</td>\n      <td>...</td>\n      <td>0</td>\n      <td>0</td>\n      <td>0</td>\n      <td>0</td>\n      <td>0</td>\n      <td>0</td>\n      <td>0</td>\n      <td>0</td>\n      <td>0</td>\n      <td>0</td>\n    </tr>\n    <tr>\n      <th>Baseball Tonight with Buster Olney</th>\n      <td>0</td>\n      <td>0</td>\n      <td>0</td>\n      <td>0</td>\n      <td>0</td>\n      <td>0</td>\n      <td>0</td>\n      <td>0</td>\n      <td>0</td>\n      <td>0</td>\n      <td>...</td>\n      <td>0</td>\n      <td>1</td>\n      <td>0</td>\n      <td>0</td>\n      <td>0</td>\n      <td>0</td>\n      <td>0</td>\n      <td>0</td>\n      <td>0</td>\n      <td>0</td>\n    </tr>\n    <tr>\n      <th>Legacy Baptist Church Sermons</th>\n      <td>0</td>\n      <td>0</td>\n      <td>0</td>\n      <td>0</td>\n      <td>0</td>\n      <td>0</td>\n      <td>0</td>\n      <td>0</td>\n      <td>0</td>\n      <td>0</td>\n      <td>...</td>\n      <td>1</td>\n      <td>0</td>\n      <td>0</td>\n      <td>0</td>\n      <td>0</td>\n      <td>0</td>\n      <td>0</td>\n      <td>0</td>\n      <td>0</td>\n      <td>0</td>\n    </tr>\n  </tbody>\n</table>\n<p>5 rows × 83 columns</p>\n</div>"
     },
     "metadata": {},
     "execution_count": 26
    }
   ],
   "source": [
    "categories_df.head()"
   ]
  },
  {
   "cell_type": "code",
   "execution_count": 27,
   "metadata": {},
   "outputs": [
    {
     "output_type": "execute_result",
     "data": {
      "text/plain": [
       "(19126, 37)"
      ]
     },
     "metadata": {},
     "execution_count": 27
    }
   ],
   "source": [
    "# Create dataframe with language dummy variables.\n",
    "lang_df = pd.get_dummies(data['pred_lang'])\n",
    "lang_df['title'] = data['title'].tolist()\n",
    "lang_df.set_index('title', inplace=True)\n",
    "lang_df.shape"
   ]
  },
  {
   "cell_type": "code",
   "execution_count": 28,
   "metadata": {},
   "outputs": [
    {
     "output_type": "execute_result",
     "data": {
      "text/plain": [
       "                                    af  ca  cs  da  de  en  eo  es  et  eu  \\\n",
       "title                                                                        \n",
       "RoomOfRequirement                    0   0   0   0   0   1   0   0   0   0   \n",
       "The Pollsters                        0   0   0   0   0   1   0   0   0   0   \n",
       "BABME™                               0   0   0   0   0   1   0   0   0   0   \n",
       "Baseball Tonight with Buster Olney   0   0   0   0   0   1   0   0   0   0   \n",
       "Legacy Baptist Church Sermons        0   0   0   0   0   1   0   0   0   0   \n",
       "\n",
       "                                    ...  pt  rw  si  sk  sl  sv  tl  vi  xh  \\\n",
       "title                               ...                                       \n",
       "RoomOfRequirement                   ...   0   0   0   0   0   0   0   0   0   \n",
       "The Pollsters                       ...   0   0   0   0   0   0   0   0   0   \n",
       "BABME™                              ...   0   0   0   0   0   0   0   0   0   \n",
       "Baseball Tonight with Buster Olney  ...   0   0   0   0   0   0   0   0   0   \n",
       "Legacy Baptist Church Sermons       ...   0   0   0   0   0   0   0   0   0   \n",
       "\n",
       "                                    zh  \n",
       "title                                   \n",
       "RoomOfRequirement                    0  \n",
       "The Pollsters                        0  \n",
       "BABME™                               0  \n",
       "Baseball Tonight with Buster Olney   0  \n",
       "Legacy Baptist Church Sermons        0  \n",
       "\n",
       "[5 rows x 37 columns]"
      ],
      "text/html": "<div>\n<style scoped>\n    .dataframe tbody tr th:only-of-type {\n        vertical-align: middle;\n    }\n\n    .dataframe tbody tr th {\n        vertical-align: top;\n    }\n\n    .dataframe thead th {\n        text-align: right;\n    }\n</style>\n<table border=\"1\" class=\"dataframe\">\n  <thead>\n    <tr style=\"text-align: right;\">\n      <th></th>\n      <th>af</th>\n      <th>ca</th>\n      <th>cs</th>\n      <th>da</th>\n      <th>de</th>\n      <th>en</th>\n      <th>eo</th>\n      <th>es</th>\n      <th>et</th>\n      <th>eu</th>\n      <th>...</th>\n      <th>pt</th>\n      <th>rw</th>\n      <th>si</th>\n      <th>sk</th>\n      <th>sl</th>\n      <th>sv</th>\n      <th>tl</th>\n      <th>vi</th>\n      <th>xh</th>\n      <th>zh</th>\n    </tr>\n    <tr>\n      <th>title</th>\n      <th></th>\n      <th></th>\n      <th></th>\n      <th></th>\n      <th></th>\n      <th></th>\n      <th></th>\n      <th></th>\n      <th></th>\n      <th></th>\n      <th></th>\n      <th></th>\n      <th></th>\n      <th></th>\n      <th></th>\n      <th></th>\n      <th></th>\n      <th></th>\n      <th></th>\n      <th></th>\n      <th></th>\n    </tr>\n  </thead>\n  <tbody>\n    <tr>\n      <th>RoomOfRequirement</th>\n      <td>0</td>\n      <td>0</td>\n      <td>0</td>\n      <td>0</td>\n      <td>0</td>\n      <td>1</td>\n      <td>0</td>\n      <td>0</td>\n      <td>0</td>\n      <td>0</td>\n      <td>...</td>\n      <td>0</td>\n      <td>0</td>\n      <td>0</td>\n      <td>0</td>\n      <td>0</td>\n      <td>0</td>\n      <td>0</td>\n      <td>0</td>\n      <td>0</td>\n      <td>0</td>\n    </tr>\n    <tr>\n      <th>The Pollsters</th>\n      <td>0</td>\n      <td>0</td>\n      <td>0</td>\n      <td>0</td>\n      <td>0</td>\n      <td>1</td>\n      <td>0</td>\n      <td>0</td>\n      <td>0</td>\n      <td>0</td>\n      <td>...</td>\n      <td>0</td>\n      <td>0</td>\n      <td>0</td>\n      <td>0</td>\n      <td>0</td>\n      <td>0</td>\n      <td>0</td>\n      <td>0</td>\n      <td>0</td>\n      <td>0</td>\n    </tr>\n    <tr>\n      <th>BABME™</th>\n      <td>0</td>\n      <td>0</td>\n      <td>0</td>\n      <td>0</td>\n      <td>0</td>\n      <td>1</td>\n      <td>0</td>\n      <td>0</td>\n      <td>0</td>\n      <td>0</td>\n      <td>...</td>\n      <td>0</td>\n      <td>0</td>\n      <td>0</td>\n      <td>0</td>\n      <td>0</td>\n      <td>0</td>\n      <td>0</td>\n      <td>0</td>\n      <td>0</td>\n      <td>0</td>\n    </tr>\n    <tr>\n      <th>Baseball Tonight with Buster Olney</th>\n      <td>0</td>\n      <td>0</td>\n      <td>0</td>\n      <td>0</td>\n      <td>0</td>\n      <td>1</td>\n      <td>0</td>\n      <td>0</td>\n      <td>0</td>\n      <td>0</td>\n      <td>...</td>\n      <td>0</td>\n      <td>0</td>\n      <td>0</td>\n      <td>0</td>\n      <td>0</td>\n      <td>0</td>\n      <td>0</td>\n      <td>0</td>\n      <td>0</td>\n      <td>0</td>\n    </tr>\n    <tr>\n      <th>Legacy Baptist Church Sermons</th>\n      <td>0</td>\n      <td>0</td>\n      <td>0</td>\n      <td>0</td>\n      <td>0</td>\n      <td>1</td>\n      <td>0</td>\n      <td>0</td>\n      <td>0</td>\n      <td>0</td>\n      <td>...</td>\n      <td>0</td>\n      <td>0</td>\n      <td>0</td>\n      <td>0</td>\n      <td>0</td>\n      <td>0</td>\n      <td>0</td>\n      <td>0</td>\n      <td>0</td>\n      <td>0</td>\n    </tr>\n  </tbody>\n</table>\n<p>5 rows × 37 columns</p>\n</div>"
     },
     "metadata": {},
     "execution_count": 28
    }
   ],
   "source": [
    "lang_df.head()"
   ]
  },
  {
   "cell_type": "code",
   "execution_count": 29,
   "metadata": {},
   "outputs": [],
   "source": [
    "# Concatenate the descriptions_df, categories_df, and lang_df.\n",
    "feature_df = pd.concat([descriptions_df, categories_df, lang_df], axis=1)"
   ]
  },
  {
   "cell_type": "code",
   "execution_count": 30,
   "metadata": {},
   "outputs": [
    {
     "output_type": "execute_result",
     "data": {
      "text/plain": [
       "(19126, 34300)"
      ]
     },
     "metadata": {},
     "execution_count": 30
    }
   ],
   "source": [
    "feature_df.shape"
   ]
  },
  {
   "cell_type": "code",
   "execution_count": 31,
   "metadata": {},
   "outputs": [
    {
     "output_type": "execute_result",
     "data": {
      "text/plain": [
       "                                    00  000  001  007  0084  0096  00a  00am  \\\n",
       "title                                                                          \n",
       "RoomOfRequirement                    0    0    0    0     0     0    0     0   \n",
       "The Pollsters                        0    0    0    0     0     0    0     0   \n",
       "BABME™                               0    0    0    0     0     0    0     0   \n",
       "Baseball Tonight with Buster Olney   0    0    0    0     0     0    0     0   \n",
       "Legacy Baptist Church Sermons        0    0    0    0     0     0    0     0   \n",
       "\n",
       "                                    00p  00pm  ...  pt  rw  si  sk  sl  sv  \\\n",
       "title                                          ...                           \n",
       "RoomOfRequirement                     0     0  ...   0   0   0   0   0   0   \n",
       "The Pollsters                         0     0  ...   0   0   0   0   0   0   \n",
       "BABME™                                0     0  ...   0   0   0   0   0   0   \n",
       "Baseball Tonight with Buster Olney    0     0  ...   0   0   0   0   0   0   \n",
       "Legacy Baptist Church Sermons         0     0  ...   0   0   0   0   0   0   \n",
       "\n",
       "                                    tl  vi  xh  zh  \n",
       "title                                               \n",
       "RoomOfRequirement                    0   0   0   0  \n",
       "The Pollsters                        0   0   0   0  \n",
       "BABME™                               0   0   0   0  \n",
       "Baseball Tonight with Buster Olney   0   0   0   0  \n",
       "Legacy Baptist Church Sermons        0   0   0   0  \n",
       "\n",
       "[5 rows x 34300 columns]"
      ],
      "text/html": "<div>\n<style scoped>\n    .dataframe tbody tr th:only-of-type {\n        vertical-align: middle;\n    }\n\n    .dataframe tbody tr th {\n        vertical-align: top;\n    }\n\n    .dataframe thead th {\n        text-align: right;\n    }\n</style>\n<table border=\"1\" class=\"dataframe\">\n  <thead>\n    <tr style=\"text-align: right;\">\n      <th></th>\n      <th>00</th>\n      <th>000</th>\n      <th>001</th>\n      <th>007</th>\n      <th>0084</th>\n      <th>0096</th>\n      <th>00a</th>\n      <th>00am</th>\n      <th>00p</th>\n      <th>00pm</th>\n      <th>...</th>\n      <th>pt</th>\n      <th>rw</th>\n      <th>si</th>\n      <th>sk</th>\n      <th>sl</th>\n      <th>sv</th>\n      <th>tl</th>\n      <th>vi</th>\n      <th>xh</th>\n      <th>zh</th>\n    </tr>\n    <tr>\n      <th>title</th>\n      <th></th>\n      <th></th>\n      <th></th>\n      <th></th>\n      <th></th>\n      <th></th>\n      <th></th>\n      <th></th>\n      <th></th>\n      <th></th>\n      <th></th>\n      <th></th>\n      <th></th>\n      <th></th>\n      <th></th>\n      <th></th>\n      <th></th>\n      <th></th>\n      <th></th>\n      <th></th>\n      <th></th>\n    </tr>\n  </thead>\n  <tbody>\n    <tr>\n      <th>RoomOfRequirement</th>\n      <td>0</td>\n      <td>0</td>\n      <td>0</td>\n      <td>0</td>\n      <td>0</td>\n      <td>0</td>\n      <td>0</td>\n      <td>0</td>\n      <td>0</td>\n      <td>0</td>\n      <td>...</td>\n      <td>0</td>\n      <td>0</td>\n      <td>0</td>\n      <td>0</td>\n      <td>0</td>\n      <td>0</td>\n      <td>0</td>\n      <td>0</td>\n      <td>0</td>\n      <td>0</td>\n    </tr>\n    <tr>\n      <th>The Pollsters</th>\n      <td>0</td>\n      <td>0</td>\n      <td>0</td>\n      <td>0</td>\n      <td>0</td>\n      <td>0</td>\n      <td>0</td>\n      <td>0</td>\n      <td>0</td>\n      <td>0</td>\n      <td>...</td>\n      <td>0</td>\n      <td>0</td>\n      <td>0</td>\n      <td>0</td>\n      <td>0</td>\n      <td>0</td>\n      <td>0</td>\n      <td>0</td>\n      <td>0</td>\n      <td>0</td>\n    </tr>\n    <tr>\n      <th>BABME™</th>\n      <td>0</td>\n      <td>0</td>\n      <td>0</td>\n      <td>0</td>\n      <td>0</td>\n      <td>0</td>\n      <td>0</td>\n      <td>0</td>\n      <td>0</td>\n      <td>0</td>\n      <td>...</td>\n      <td>0</td>\n      <td>0</td>\n      <td>0</td>\n      <td>0</td>\n      <td>0</td>\n      <td>0</td>\n      <td>0</td>\n      <td>0</td>\n      <td>0</td>\n      <td>0</td>\n    </tr>\n    <tr>\n      <th>Baseball Tonight with Buster Olney</th>\n      <td>0</td>\n      <td>0</td>\n      <td>0</td>\n      <td>0</td>\n      <td>0</td>\n      <td>0</td>\n      <td>0</td>\n      <td>0</td>\n      <td>0</td>\n      <td>0</td>\n      <td>...</td>\n      <td>0</td>\n      <td>0</td>\n      <td>0</td>\n      <td>0</td>\n      <td>0</td>\n      <td>0</td>\n      <td>0</td>\n      <td>0</td>\n      <td>0</td>\n      <td>0</td>\n    </tr>\n    <tr>\n      <th>Legacy Baptist Church Sermons</th>\n      <td>0</td>\n      <td>0</td>\n      <td>0</td>\n      <td>0</td>\n      <td>0</td>\n      <td>0</td>\n      <td>0</td>\n      <td>0</td>\n      <td>0</td>\n      <td>0</td>\n      <td>...</td>\n      <td>0</td>\n      <td>0</td>\n      <td>0</td>\n      <td>0</td>\n      <td>0</td>\n      <td>0</td>\n      <td>0</td>\n      <td>0</td>\n      <td>0</td>\n      <td>0</td>\n    </tr>\n  </tbody>\n</table>\n<p>5 rows × 34300 columns</p>\n</div>"
     },
     "metadata": {},
     "execution_count": 31
    }
   ],
   "source": [
    "feature_df.head()"
   ]
  },
  {
   "cell_type": "markdown",
   "metadata": {},
   "source": [
    "## Create Similarity Matrix"
   ]
  },
  {
   "cell_type": "code",
   "execution_count": 32,
   "metadata": {},
   "outputs": [
    {
     "output_type": "stream",
     "name": "stdout",
     "text": [
      "<class 'pandas.core.frame.DataFrame'>\nIndex: 19126 entries, RoomOfRequirement to Mundo de Restauracion\nColumns: 34300 entries, 00 to zh\ndtypes: int64(34263), uint8(37)\nmemory usage: 4.9+ GB\n"
     ]
    }
   ],
   "source": [
    "feature_df.info()"
   ]
  },
  {
   "cell_type": "code",
   "execution_count": 33,
   "metadata": {},
   "outputs": [],
   "source": [
    "titles_list = list(feature_df.index)"
   ]
  },
  {
   "cell_type": "code",
   "execution_count": 34,
   "metadata": {},
   "outputs": [],
   "source": [
    "# Save list of titles for reference.\n",
    "with open('../app/titles_list.pkl', 'wb') as f:\n",
    "    pickle.dump(titles_list, f)"
   ]
  },
  {
   "cell_type": "code",
   "execution_count": 35,
   "metadata": {},
   "outputs": [],
   "source": [
    "cat_dict = {title:category for title, category in zip(titles_list, categories)}"
   ]
  },
  {
   "cell_type": "code",
   "execution_count": 36,
   "metadata": {},
   "outputs": [],
   "source": [
    "# Save title and category dictionary as pickle file.\n",
    "with open('../app/category_dict.pkl', 'wb') as f:\n",
    "    pickle.dump(cat_dict, f)"
   ]
  },
  {
   "cell_type": "code",
   "execution_count": 37,
   "metadata": {},
   "outputs": [],
   "source": [
    "# Create similarity matrix.\n",
    "sim_mat = pd.DataFrame(cosine_similarity(feature_df, feature_df))"
   ]
  },
  {
   "cell_type": "code",
   "execution_count": 38,
   "metadata": {},
   "outputs": [
    {
     "output_type": "execute_result",
     "data": {
      "text/plain": [
       "(19126, 19126)"
      ]
     },
     "metadata": {},
     "execution_count": 38
    }
   ],
   "source": [
    "sim_mat.shape"
   ]
  },
  {
   "cell_type": "code",
   "execution_count": 39,
   "metadata": {},
   "outputs": [
    {
     "output_type": "execute_result",
     "data": {
      "text/plain": [
       "      0         1         2         3         4         5         6      \\\n",
       "0  1.000000  0.107211  0.197952  0.049629  0.055989  0.173255  0.131306   \n",
       "1  0.107211  1.000000  0.073855  0.061721  0.104447  0.137117  0.204124   \n",
       "2  0.197952  0.073855  1.000000  0.056980  0.064282  0.198918  0.075378   \n",
       "3  0.049629  0.061721  0.056980  1.000000  0.080582  0.022669  0.047246   \n",
       "4  0.055989  0.104447  0.064282  0.080582  1.000000  0.102295  0.106600   \n",
       "\n",
       "      7         8         9      ...     19116     19117     19118     19119  \\\n",
       "0  0.110727  0.070186  0.062776  ...  0.280745  0.140372  0.000000  0.045038   \n",
       "1  0.068853  0.130931  0.019518  ...  0.130931  0.043644  0.000000  0.000000   \n",
       "2  0.095346  0.080582  0.072075  ...  0.161165  0.161165  0.000000  0.000000   \n",
       "3  0.079682  0.101015  0.045175  ...  0.000000  0.000000  0.000000  0.000000   \n",
       "4  0.134840  0.683763  0.305788  ...  0.000000  0.227921  0.250873  0.000000   \n",
       "\n",
       "      19120     19121     19122     19123     19124     19125  \n",
       "0  0.000000  0.000000  0.151620  0.131306  0.151620  0.131306  \n",
       "1  0.025198  0.000000  0.047140  0.040825  0.047140  0.040825  \n",
       "2  0.046524  0.000000  0.174078  0.150756  0.174078  0.150756  \n",
       "3  0.000000  0.000000  0.000000  0.000000  0.000000  0.000000  \n",
       "4  0.000000  0.213201  0.000000  0.213201  0.369274  0.319801  \n",
       "\n",
       "[5 rows x 19126 columns]"
      ],
      "text/html": "<div>\n<style scoped>\n    .dataframe tbody tr th:only-of-type {\n        vertical-align: middle;\n    }\n\n    .dataframe tbody tr th {\n        vertical-align: top;\n    }\n\n    .dataframe thead th {\n        text-align: right;\n    }\n</style>\n<table border=\"1\" class=\"dataframe\">\n  <thead>\n    <tr style=\"text-align: right;\">\n      <th></th>\n      <th>0</th>\n      <th>1</th>\n      <th>2</th>\n      <th>3</th>\n      <th>4</th>\n      <th>5</th>\n      <th>6</th>\n      <th>7</th>\n      <th>8</th>\n      <th>9</th>\n      <th>...</th>\n      <th>19116</th>\n      <th>19117</th>\n      <th>19118</th>\n      <th>19119</th>\n      <th>19120</th>\n      <th>19121</th>\n      <th>19122</th>\n      <th>19123</th>\n      <th>19124</th>\n      <th>19125</th>\n    </tr>\n  </thead>\n  <tbody>\n    <tr>\n      <th>0</th>\n      <td>1.000000</td>\n      <td>0.107211</td>\n      <td>0.197952</td>\n      <td>0.049629</td>\n      <td>0.055989</td>\n      <td>0.173255</td>\n      <td>0.131306</td>\n      <td>0.110727</td>\n      <td>0.070186</td>\n      <td>0.062776</td>\n      <td>...</td>\n      <td>0.280745</td>\n      <td>0.140372</td>\n      <td>0.000000</td>\n      <td>0.045038</td>\n      <td>0.000000</td>\n      <td>0.000000</td>\n      <td>0.151620</td>\n      <td>0.131306</td>\n      <td>0.151620</td>\n      <td>0.131306</td>\n    </tr>\n    <tr>\n      <th>1</th>\n      <td>0.107211</td>\n      <td>1.000000</td>\n      <td>0.073855</td>\n      <td>0.061721</td>\n      <td>0.104447</td>\n      <td>0.137117</td>\n      <td>0.204124</td>\n      <td>0.068853</td>\n      <td>0.130931</td>\n      <td>0.019518</td>\n      <td>...</td>\n      <td>0.130931</td>\n      <td>0.043644</td>\n      <td>0.000000</td>\n      <td>0.000000</td>\n      <td>0.025198</td>\n      <td>0.000000</td>\n      <td>0.047140</td>\n      <td>0.040825</td>\n      <td>0.047140</td>\n      <td>0.040825</td>\n    </tr>\n    <tr>\n      <th>2</th>\n      <td>0.197952</td>\n      <td>0.073855</td>\n      <td>1.000000</td>\n      <td>0.056980</td>\n      <td>0.064282</td>\n      <td>0.198918</td>\n      <td>0.075378</td>\n      <td>0.095346</td>\n      <td>0.080582</td>\n      <td>0.072075</td>\n      <td>...</td>\n      <td>0.161165</td>\n      <td>0.161165</td>\n      <td>0.000000</td>\n      <td>0.000000</td>\n      <td>0.046524</td>\n      <td>0.000000</td>\n      <td>0.174078</td>\n      <td>0.150756</td>\n      <td>0.174078</td>\n      <td>0.150756</td>\n    </tr>\n    <tr>\n      <th>3</th>\n      <td>0.049629</td>\n      <td>0.061721</td>\n      <td>0.056980</td>\n      <td>1.000000</td>\n      <td>0.080582</td>\n      <td>0.022669</td>\n      <td>0.047246</td>\n      <td>0.079682</td>\n      <td>0.101015</td>\n      <td>0.045175</td>\n      <td>...</td>\n      <td>0.000000</td>\n      <td>0.000000</td>\n      <td>0.000000</td>\n      <td>0.000000</td>\n      <td>0.000000</td>\n      <td>0.000000</td>\n      <td>0.000000</td>\n      <td>0.000000</td>\n      <td>0.000000</td>\n      <td>0.000000</td>\n    </tr>\n    <tr>\n      <th>4</th>\n      <td>0.055989</td>\n      <td>0.104447</td>\n      <td>0.064282</td>\n      <td>0.080582</td>\n      <td>1.000000</td>\n      <td>0.102295</td>\n      <td>0.106600</td>\n      <td>0.134840</td>\n      <td>0.683763</td>\n      <td>0.305788</td>\n      <td>...</td>\n      <td>0.000000</td>\n      <td>0.227921</td>\n      <td>0.250873</td>\n      <td>0.000000</td>\n      <td>0.000000</td>\n      <td>0.213201</td>\n      <td>0.000000</td>\n      <td>0.213201</td>\n      <td>0.369274</td>\n      <td>0.319801</td>\n    </tr>\n  </tbody>\n</table>\n<p>5 rows × 19126 columns</p>\n</div>"
     },
     "metadata": {},
     "execution_count": 39
    }
   ],
   "source": [
    "sim_mat.head()"
   ]
  },
  {
   "cell_type": "code",
   "execution_count": 40,
   "metadata": {},
   "outputs": [],
   "source": [
    "# Save similarity matrix for reference.\n",
    "sim_mat.to_pickle('../app/similarity_matrix.pkl')"
   ]
  },
  {
   "cell_type": "code",
   "execution_count": null,
   "metadata": {},
   "outputs": [],
   "source": []
  }
 ],
 "metadata": {
  "kernelspec": {
   "display_name": "Python 3",
   "language": "python",
   "name": "python3"
  },
  "language_info": {
   "codemirror_mode": {
    "name": "ipython",
    "version": 3
   },
   "file_extension": ".py",
   "mimetype": "text/x-python",
   "name": "python",
   "nbconvert_exporter": "python",
   "pygments_lexer": "ipython3",
   "version": "3.7.7-final"
  }
 },
 "nbformat": 4,
 "nbformat_minor": 4
}