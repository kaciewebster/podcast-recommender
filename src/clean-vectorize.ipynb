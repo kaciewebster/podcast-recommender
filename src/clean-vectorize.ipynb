{
 "metadata": {
  "language_info": {
   "codemirror_mode": {
    "name": "ipython",
    "version": 3
   },
   "file_extension": ".py",
   "mimetype": "text/x-python",
   "name": "python",
   "nbconvert_exporter": "python",
   "pygments_lexer": "ipython3",
   "version": "3.7.7-final"
  },
  "orig_nbformat": 2,
  "kernelspec": {
   "name": "python377jvsc74a57bd0dca0ade3e726a953b501b15e8e990130d2b7799f14cfd9f4271676035ebe5511",
   "display_name": "Python 3.7.7 64-bit ('base': conda)"
  }
 },
 "nbformat": 4,
 "nbformat_minor": 2,
 "cells": [
  {
   "source": [
    "## Imports"
   ],
   "cell_type": "markdown",
   "metadata": {}
  },
  {
   "cell_type": "code",
   "execution_count": 1,
   "metadata": {},
   "outputs": [],
   "source": [
    "import pandas as pd\n",
    "import pickle\n",
    "import numpy as np\n",
    "\n",
    "import nltk\n",
    "from nltk.tokenize import word_tokenize\n",
    "from nltk.corpus import stopwords\n",
    "from nltk.stem.wordnet import WordNetLemmatizer\n",
    "import unicodedata\n",
    "import string\n",
    "from langid.langid import LanguageIdentifier, model\n",
    "\n",
    "from sklearn.feature_extraction.text import TfidfVectorizer\n",
    "from sklearn.metrics.pairwise import cosine_similarity"
   ]
  },
  {
   "source": [
    "## Load Data"
   ],
   "cell_type": "markdown",
   "metadata": {}
  },
  {
   "cell_type": "code",
   "execution_count": 2,
   "metadata": {},
   "outputs": [],
   "source": [
    "data = pd.read_csv('../data/podcasts.csv')"
   ]
  },
  {
   "cell_type": "code",
   "execution_count": 3,
   "metadata": {},
   "outputs": [
    {
     "output_type": "execute_result",
     "data": {
      "text/plain": [
       "                               uuid  \\\n",
       "0  8d62d3880db2425b890b986e58aca393   \n",
       "1  cbbefd691915468c90f87ab2f00473f9   \n",
       "2  73626ad1edb74dbb8112cd159bda86cf   \n",
       "3  0f50631ebad24cedb2fee80950f37a1a   \n",
       "4  69580e7b419045839ca07af06cf0d653   \n",
       "\n",
       "                                               title  \\\n",
       "0    Ecommerce Conversations, by Practical Ecommerce   \n",
       "1                             Eat Sleep Code Podcast   \n",
       "2                                    SoundtrackAlley   \n",
       "3                               The Tech M&A Podcast   \n",
       "4  The Tech Informist - For fans of Apple, Google...   \n",
       "\n",
       "                                               image  \\\n",
       "0  http://is4.mzstatic.com/image/thumb/Music6/v4/...   \n",
       "1  http://is4.mzstatic.com/image/thumb/Music71/v4...   \n",
       "2  http://is5.mzstatic.com/image/thumb/Music71/v4...   \n",
       "3  http://is1.mzstatic.com/image/thumb/Music71/v4...   \n",
       "4  http://is4.mzstatic.com/image/thumb/Music62/v4...   \n",
       "\n",
       "                                         description language  \\\n",
       "0  Listen in as the Practical Ecommerce editorial...  English   \n",
       "1  On the show we’ll be talking to passionate peo...  English   \n",
       "2  A podcast about soundtracks and movies from my...  English   \n",
       "3  The Tech M&A Podcast pulls from the best of th...  English   \n",
       "4  The tech news show with two guys shooting the ...  English   \n",
       "\n",
       "                                          categories  \\\n",
       "0                                         Technology   \n",
       "1                             Tech News | Technology   \n",
       "2                            Podcasting | Technology   \n",
       "3  Business News | Technology | Tech News | Business   \n",
       "4                   Gadgets | Tech News | Technology   \n",
       "\n",
       "                               website               author   itunes_id  \n",
       "0    http://www.practicalecommerce.com  Practical Ecommerce   874457373  \n",
       "1        http://developer.telerik.com/              Telerik  1015556393  \n",
       "2  https://soundtrackalley.podbean.com        Randy Andrews  1158188937  \n",
       "3            http://www.corumgroup.com      Timothy Goddard   538160025  \n",
       "4             http://techinformist.com   The Tech Informist   916080498  "
      ],
      "text/html": "<div>\n<style scoped>\n    .dataframe tbody tr th:only-of-type {\n        vertical-align: middle;\n    }\n\n    .dataframe tbody tr th {\n        vertical-align: top;\n    }\n\n    .dataframe thead th {\n        text-align: right;\n    }\n</style>\n<table border=\"1\" class=\"dataframe\">\n  <thead>\n    <tr style=\"text-align: right;\">\n      <th></th>\n      <th>uuid</th>\n      <th>title</th>\n      <th>image</th>\n      <th>description</th>\n      <th>language</th>\n      <th>categories</th>\n      <th>website</th>\n      <th>author</th>\n      <th>itunes_id</th>\n    </tr>\n  </thead>\n  <tbody>\n    <tr>\n      <th>0</th>\n      <td>8d62d3880db2425b890b986e58aca393</td>\n      <td>Ecommerce Conversations, by Practical Ecommerce</td>\n      <td>http://is4.mzstatic.com/image/thumb/Music6/v4/...</td>\n      <td>Listen in as the Practical Ecommerce editorial...</td>\n      <td>English</td>\n      <td>Technology</td>\n      <td>http://www.practicalecommerce.com</td>\n      <td>Practical Ecommerce</td>\n      <td>874457373</td>\n    </tr>\n    <tr>\n      <th>1</th>\n      <td>cbbefd691915468c90f87ab2f00473f9</td>\n      <td>Eat Sleep Code Podcast</td>\n      <td>http://is4.mzstatic.com/image/thumb/Music71/v4...</td>\n      <td>On the show we’ll be talking to passionate peo...</td>\n      <td>English</td>\n      <td>Tech News | Technology</td>\n      <td>http://developer.telerik.com/</td>\n      <td>Telerik</td>\n      <td>1015556393</td>\n    </tr>\n    <tr>\n      <th>2</th>\n      <td>73626ad1edb74dbb8112cd159bda86cf</td>\n      <td>SoundtrackAlley</td>\n      <td>http://is5.mzstatic.com/image/thumb/Music71/v4...</td>\n      <td>A podcast about soundtracks and movies from my...</td>\n      <td>English</td>\n      <td>Podcasting | Technology</td>\n      <td>https://soundtrackalley.podbean.com</td>\n      <td>Randy Andrews</td>\n      <td>1158188937</td>\n    </tr>\n    <tr>\n      <th>3</th>\n      <td>0f50631ebad24cedb2fee80950f37a1a</td>\n      <td>The Tech M&amp;A Podcast</td>\n      <td>http://is1.mzstatic.com/image/thumb/Music71/v4...</td>\n      <td>The Tech M&amp;A Podcast pulls from the best of th...</td>\n      <td>English</td>\n      <td>Business News | Technology | Tech News | Business</td>\n      <td>http://www.corumgroup.com</td>\n      <td>Timothy Goddard</td>\n      <td>538160025</td>\n    </tr>\n    <tr>\n      <th>4</th>\n      <td>69580e7b419045839ca07af06cf0d653</td>\n      <td>The Tech Informist - For fans of Apple, Google...</td>\n      <td>http://is4.mzstatic.com/image/thumb/Music62/v4...</td>\n      <td>The tech news show with two guys shooting the ...</td>\n      <td>English</td>\n      <td>Gadgets | Tech News | Technology</td>\n      <td>http://techinformist.com</td>\n      <td>The Tech Informist</td>\n      <td>916080498</td>\n    </tr>\n  </tbody>\n</table>\n</div>"
     },
     "metadata": {},
     "execution_count": 3
    }
   ],
   "source": [
    "data.head()"
   ]
  },
  {
   "cell_type": "code",
   "execution_count": 4,
   "metadata": {},
   "outputs": [
    {
     "output_type": "execute_result",
     "data": {
      "text/plain": [
       "(121175, 9)"
      ]
     },
     "metadata": {},
     "execution_count": 4
    }
   ],
   "source": [
    "data.shape"
   ]
  },
  {
   "cell_type": "code",
   "execution_count": 5,
   "metadata": {},
   "outputs": [
    {
     "output_type": "stream",
     "name": "stdout",
     "text": [
      "<class 'pandas.core.frame.DataFrame'>\nRangeIndex: 121175 entries, 0 to 121174\nData columns (total 9 columns):\n #   Column       Non-Null Count   Dtype \n---  ------       --------------   ----- \n 0   uuid         121175 non-null  object\n 1   title        121173 non-null  object\n 2   image        121175 non-null  object\n 3   description  119832 non-null  object\n 4   language     121175 non-null  object\n 5   categories   121175 non-null  object\n 6   website      120005 non-null  object\n 7   author       118678 non-null  object\n 8   itunes_id    121175 non-null  int64 \ndtypes: int64(1), object(8)\nmemory usage: 8.3+ MB\n"
     ]
    }
   ],
   "source": [
    "data.info()"
   ]
  },
  {
   "source": [
    "## Clean Data"
   ],
   "cell_type": "markdown",
   "metadata": {}
  },
  {
   "cell_type": "code",
   "execution_count": 6,
   "metadata": {},
   "outputs": [
    {
     "output_type": "execute_result",
     "data": {
      "text/plain": [
       "(116374, 9)"
      ]
     },
     "metadata": {},
     "execution_count": 6
    }
   ],
   "source": [
    "data.dropna(axis=0, inplace=True)\n",
    "data.shape"
   ]
  },
  {
   "source": [
    "## Filter for English Podcasts"
   ],
   "cell_type": "markdown",
   "metadata": {}
  },
  {
   "cell_type": "code",
   "execution_count": 7,
   "metadata": {},
   "outputs": [],
   "source": [
    "def pred_lang(df, column):\n",
    "    identifier = LanguageIdentifier.from_modelstring(model, norm_probs=True)\n",
    "    lang_lst = []\n",
    "    for text in df[column].values:\n",
    "        lang, score = identifier.classify(text)\n",
    "        lang_lst.append(lang)\n",
    "    return lang_lst"
   ]
  },
  {
   "cell_type": "code",
   "execution_count": 8,
   "metadata": {},
   "outputs": [],
   "source": [
    "english_data = data[data['language']=='English']"
   ]
  },
  {
   "cell_type": "code",
   "execution_count": 9,
   "metadata": {},
   "outputs": [
    {
     "output_type": "execute_result",
     "data": {
      "text/plain": [
       "(95118, 9)"
      ]
     },
     "metadata": {},
     "execution_count": 9
    }
   ],
   "source": [
    "english_data.shape"
   ]
  },
  {
   "cell_type": "code",
   "execution_count": 10,
   "metadata": {},
   "outputs": [],
   "source": [
    "lang_lst = pred_lang(english_data, 'description')"
   ]
  },
  {
   "cell_type": "code",
   "execution_count": 11,
   "metadata": {},
   "outputs": [
    {
     "output_type": "stream",
     "name": "stderr",
     "text": [
      "ipykernel_launcher:1: SettingWithCopyWarning: \nA value is trying to be set on a copy of a slice from a DataFrame.\nTry using .loc[row_indexer,col_indexer] = value instead\n\nSee the caveats in the documentation: https://pandas.pydata.org/pandas-docs/stable/user_guide/indexing.html#returning-a-view-versus-a-copy\n"
     ]
    }
   ],
   "source": [
    "english_data['pred_lang'] = lang_lst"
   ]
  },
  {
   "cell_type": "code",
   "execution_count": 12,
   "metadata": {},
   "outputs": [],
   "source": [
    "english_data = english_data[english_data['pred_lang']=='en']"
   ]
  },
  {
   "cell_type": "code",
   "execution_count": 13,
   "metadata": {},
   "outputs": [
    {
     "output_type": "execute_result",
     "data": {
      "text/plain": [
       "(90049, 10)"
      ]
     },
     "metadata": {},
     "execution_count": 13
    }
   ],
   "source": [
    "english_data.shape"
   ]
  },
  {
   "cell_type": "code",
   "execution_count": 14,
   "metadata": {},
   "outputs": [
    {
     "output_type": "execute_result",
     "data": {
      "text/plain": [
       "90049"
      ]
     },
     "metadata": {},
     "execution_count": 14
    }
   ],
   "source": [
    "english_data['uuid'].nunique()"
   ]
  },
  {
   "cell_type": "code",
   "execution_count": 15,
   "metadata": {},
   "outputs": [
    {
     "output_type": "stream",
     "name": "stdout",
     "text": [
      "<class 'pandas.core.frame.DataFrame'>\nInt64Index: 90049 entries, 0 to 121174\nData columns (total 10 columns):\n #   Column       Non-Null Count  Dtype \n---  ------       --------------  ----- \n 0   uuid         90049 non-null  object\n 1   title        90049 non-null  object\n 2   image        90049 non-null  object\n 3   description  90049 non-null  object\n 4   language     90049 non-null  object\n 5   categories   90049 non-null  object\n 6   website      90049 non-null  object\n 7   author       90049 non-null  object\n 8   itunes_id    90049 non-null  int64 \n 9   pred_lang    90049 non-null  object\ndtypes: int64(1), object(9)\nmemory usage: 7.6+ MB\n"
     ]
    }
   ],
   "source": [
    "english_data.info()"
   ]
  },
  {
   "source": [
    "## Text Preprocessing"
   ],
   "cell_type": "markdown",
   "metadata": {}
  },
  {
   "cell_type": "code",
   "execution_count": 16,
   "metadata": {},
   "outputs": [],
   "source": [
    "english_data['description'] = english_data['description'].str.replace('https?\\S+|www.\\S+', '', case=False)"
   ]
  },
  {
   "cell_type": "code",
   "execution_count": 17,
   "metadata": {},
   "outputs": [
    {
     "output_type": "execute_result",
     "data": {
      "text/plain": [
       "(90049, 10)"
      ]
     },
     "metadata": {},
     "execution_count": 17
    }
   ],
   "source": [
    "english_data.shape"
   ]
  },
  {
   "cell_type": "code",
   "execution_count": 18,
   "metadata": {},
   "outputs": [
    {
     "output_type": "execute_result",
     "data": {
      "text/plain": [
       "                               uuid  \\\n",
       "0  8d62d3880db2425b890b986e58aca393   \n",
       "1  cbbefd691915468c90f87ab2f00473f9   \n",
       "2  73626ad1edb74dbb8112cd159bda86cf   \n",
       "3  0f50631ebad24cedb2fee80950f37a1a   \n",
       "4  69580e7b419045839ca07af06cf0d653   \n",
       "\n",
       "                                               title  \\\n",
       "0    Ecommerce Conversations, by Practical Ecommerce   \n",
       "1                             Eat Sleep Code Podcast   \n",
       "2                                    SoundtrackAlley   \n",
       "3                               The Tech M&A Podcast   \n",
       "4  The Tech Informist - For fans of Apple, Google...   \n",
       "\n",
       "                                               image  \\\n",
       "0  http://is4.mzstatic.com/image/thumb/Music6/v4/...   \n",
       "1  http://is4.mzstatic.com/image/thumb/Music71/v4...   \n",
       "2  http://is5.mzstatic.com/image/thumb/Music71/v4...   \n",
       "3  http://is1.mzstatic.com/image/thumb/Music71/v4...   \n",
       "4  http://is4.mzstatic.com/image/thumb/Music62/v4...   \n",
       "\n",
       "                                         description language  \\\n",
       "0  Listen in as the Practical Ecommerce editorial...  English   \n",
       "1  On the show we’ll be talking to passionate peo...  English   \n",
       "2  A podcast about soundtracks and movies from my...  English   \n",
       "3  The Tech M&A Podcast pulls from the best of th...  English   \n",
       "4  The tech news show with two guys shooting the ...  English   \n",
       "\n",
       "                                          categories  \\\n",
       "0                                         Technology   \n",
       "1                             Tech News | Technology   \n",
       "2                            Podcasting | Technology   \n",
       "3  Business News | Technology | Tech News | Business   \n",
       "4                   Gadgets | Tech News | Technology   \n",
       "\n",
       "                               website               author   itunes_id  \\\n",
       "0    http://www.practicalecommerce.com  Practical Ecommerce   874457373   \n",
       "1        http://developer.telerik.com/              Telerik  1015556393   \n",
       "2  https://soundtrackalley.podbean.com        Randy Andrews  1158188937   \n",
       "3            http://www.corumgroup.com      Timothy Goddard   538160025   \n",
       "4             http://techinformist.com   The Tech Informist   916080498   \n",
       "\n",
       "  pred_lang  \n",
       "0        en  \n",
       "1        en  \n",
       "2        en  \n",
       "3        en  \n",
       "4        en  "
      ],
      "text/html": "<div>\n<style scoped>\n    .dataframe tbody tr th:only-of-type {\n        vertical-align: middle;\n    }\n\n    .dataframe tbody tr th {\n        vertical-align: top;\n    }\n\n    .dataframe thead th {\n        text-align: right;\n    }\n</style>\n<table border=\"1\" class=\"dataframe\">\n  <thead>\n    <tr style=\"text-align: right;\">\n      <th></th>\n      <th>uuid</th>\n      <th>title</th>\n      <th>image</th>\n      <th>description</th>\n      <th>language</th>\n      <th>categories</th>\n      <th>website</th>\n      <th>author</th>\n      <th>itunes_id</th>\n      <th>pred_lang</th>\n    </tr>\n  </thead>\n  <tbody>\n    <tr>\n      <th>0</th>\n      <td>8d62d3880db2425b890b986e58aca393</td>\n      <td>Ecommerce Conversations, by Practical Ecommerce</td>\n      <td>http://is4.mzstatic.com/image/thumb/Music6/v4/...</td>\n      <td>Listen in as the Practical Ecommerce editorial...</td>\n      <td>English</td>\n      <td>Technology</td>\n      <td>http://www.practicalecommerce.com</td>\n      <td>Practical Ecommerce</td>\n      <td>874457373</td>\n      <td>en</td>\n    </tr>\n    <tr>\n      <th>1</th>\n      <td>cbbefd691915468c90f87ab2f00473f9</td>\n      <td>Eat Sleep Code Podcast</td>\n      <td>http://is4.mzstatic.com/image/thumb/Music71/v4...</td>\n      <td>On the show we’ll be talking to passionate peo...</td>\n      <td>English</td>\n      <td>Tech News | Technology</td>\n      <td>http://developer.telerik.com/</td>\n      <td>Telerik</td>\n      <td>1015556393</td>\n      <td>en</td>\n    </tr>\n    <tr>\n      <th>2</th>\n      <td>73626ad1edb74dbb8112cd159bda86cf</td>\n      <td>SoundtrackAlley</td>\n      <td>http://is5.mzstatic.com/image/thumb/Music71/v4...</td>\n      <td>A podcast about soundtracks and movies from my...</td>\n      <td>English</td>\n      <td>Podcasting | Technology</td>\n      <td>https://soundtrackalley.podbean.com</td>\n      <td>Randy Andrews</td>\n      <td>1158188937</td>\n      <td>en</td>\n    </tr>\n    <tr>\n      <th>3</th>\n      <td>0f50631ebad24cedb2fee80950f37a1a</td>\n      <td>The Tech M&amp;A Podcast</td>\n      <td>http://is1.mzstatic.com/image/thumb/Music71/v4...</td>\n      <td>The Tech M&amp;A Podcast pulls from the best of th...</td>\n      <td>English</td>\n      <td>Business News | Technology | Tech News | Business</td>\n      <td>http://www.corumgroup.com</td>\n      <td>Timothy Goddard</td>\n      <td>538160025</td>\n      <td>en</td>\n    </tr>\n    <tr>\n      <th>4</th>\n      <td>69580e7b419045839ca07af06cf0d653</td>\n      <td>The Tech Informist - For fans of Apple, Google...</td>\n      <td>http://is4.mzstatic.com/image/thumb/Music62/v4...</td>\n      <td>The tech news show with two guys shooting the ...</td>\n      <td>English</td>\n      <td>Gadgets | Tech News | Technology</td>\n      <td>http://techinformist.com</td>\n      <td>The Tech Informist</td>\n      <td>916080498</td>\n      <td>en</td>\n    </tr>\n  </tbody>\n</table>\n</div>"
     },
     "metadata": {},
     "execution_count": 18
    }
   ],
   "source": [
    "english_data.head()"
   ]
  },
  {
   "cell_type": "code",
   "execution_count": 19,
   "metadata": {},
   "outputs": [
    {
     "output_type": "execute_result",
     "data": {
      "text/plain": [
       "'Listen in as the Practical Ecommerce editorial staff interviews interesting personalities in the ecommerce space.'"
      ]
     },
     "metadata": {},
     "execution_count": 19
    }
   ],
   "source": [
    "descriptions = english_data['description'].to_list()\n",
    "descriptions[0]"
   ]
  },
  {
   "cell_type": "code",
   "execution_count": 20,
   "metadata": {},
   "outputs": [],
   "source": [
    "# Create remove_accents function.\n",
    "def remove_accents(input_str):\n",
    "    nfkd_form = unicodedata.normalize('NFKD', input_str)\n",
    "    only_ascii = nfkd_form.encode('ASCII', 'ignore')\n",
    "    return only_ascii.decode()"
   ]
  },
  {
   "cell_type": "code",
   "execution_count": 21,
   "metadata": {},
   "outputs": [],
   "source": [
    "# Create clean_text function.\n",
    "def clean_text(docs):\n",
    "    # Make all words in documents lowercase.\n",
    "    low_docs = [doc.lower() for doc in docs]\n",
    "    # Remove all accents from documents.\n",
    "    acc_docs = [remove_accents(doc) for doc in low_docs]\n",
    "    # Tokenize each document.\n",
    "    tokens = [word_tokenize(doc) for doc in acc_docs]\n",
    "    # Remove stopwords and punctuation.\n",
    "    stopwords_ = set(stopwords.words('english'))\n",
    "    punctuation_ = set(string.punctuation)\n",
    "    tokens = [[word for word in token if word not in stopwords_ and word not in punctuation_] for token in tokens]\n",
    "    # Apply Lemmatizer Stemmer.\n",
    "    lemmatizer = WordNetLemmatizer()\n",
    "    lemmatize_tokens = [list(map(lemmatizer.lemmatize, token)) for token in tokens]\n",
    "    # Join tokens in each document.\n",
    "    token_docs = [' '.join(tokens) for tokens in lemmatize_tokens]\n",
    "    return token_docs"
   ]
  },
  {
   "cell_type": "code",
   "execution_count": 22,
   "metadata": {},
   "outputs": [],
   "source": [
    "clean_descriptions = clean_text(descriptions)"
   ]
  },
  {
   "cell_type": "code",
   "execution_count": 23,
   "metadata": {},
   "outputs": [
    {
     "output_type": "execute_result",
     "data": {
      "text/plain": [
       "'listen practical ecommerce editorial staff interview interesting personality ecommerce space'"
      ]
     },
     "metadata": {},
     "execution_count": 23
    }
   ],
   "source": [
    "clean_descriptions[0]"
   ]
  },
  {
   "source": [
    "## Vectorize"
   ],
   "cell_type": "markdown",
   "metadata": {}
  },
  {
   "cell_type": "code",
   "execution_count": 24,
   "metadata": {},
   "outputs": [],
   "source": [
    "tfidf = TfidfVectorizer(min_df=3, max_df=0.5)\n",
    "tfidf_matrix = tfidf.fit_transform(clean_descriptions)"
   ]
  },
  {
   "cell_type": "code",
   "execution_count": 25,
   "metadata": {},
   "outputs": [
    {
     "output_type": "execute_result",
     "data": {
      "text/plain": [
       "(90049, 25867)"
      ]
     },
     "metadata": {},
     "execution_count": 25
    }
   ],
   "source": [
    "tfidf_matrix.shape"
   ]
  },
  {
   "cell_type": "code",
   "execution_count": 26,
   "metadata": {},
   "outputs": [
    {
     "output_type": "execute_result",
     "data": {
      "text/plain": [
       "(90049, 25867)"
      ]
     },
     "metadata": {},
     "execution_count": 26
    }
   ],
   "source": [
    "tfidf_matrix = tfidf_matrix.toarray()\n",
    "feature_names = tfidf.get_feature_names()\n",
    "feature_df = pd.DataFrame(tfidf_matrix, index=english_data['title'], columns=feature_names)\n",
    "feature_df.shape"
   ]
  },
  {
   "cell_type": "code",
   "execution_count": 27,
   "metadata": {},
   "outputs": [],
   "source": [
    "feature_df.to_pickle('../data/features.pkl')"
   ]
  },
  {
   "cell_type": "code",
   "execution_count": null,
   "metadata": {},
   "outputs": [],
   "source": [
    "pickle.dump(tfidf, open('../data/vectorizer.pkl', 'wb'))"
   ]
  },
  {
   "source": [
    "## Make Recommendations"
   ],
   "cell_type": "markdown",
   "metadata": {}
  },
  {
   "cell_type": "code",
   "execution_count": 51,
   "metadata": {},
   "outputs": [
    {
     "output_type": "execute_result",
     "data": {
      "text/plain": [
       "(1, 25867)"
      ]
     },
     "metadata": {},
     "execution_count": 51
    }
   ],
   "source": [
    "test = ['crime, murder, mystery, killer']\n",
    "cleaned_test = clean_text(test)\n",
    "test_matrix = tfidf.transform(cleaned_test)\n",
    "test_matrix = test_matrix.toarray()\n",
    "feature_names = tfidf.get_feature_names()\n",
    "test_df = pd.DataFrame(test_matrix, index=['test'], columns=feature_names)\n",
    "test_df.shape"
   ]
  },
  {
   "cell_type": "code",
   "execution_count": 52,
   "metadata": {},
   "outputs": [
    {
     "output_type": "execute_result",
     "data": {
      "text/plain": [
       "array([0., 0., 0., ..., 0., 0., 0.])"
      ]
     },
     "metadata": {},
     "execution_count": 52
    }
   ],
   "source": [
    "test_similarities = cosine_similarity(feature_df, test_df).T[0]\n",
    "test_similarities"
   ]
  },
  {
   "cell_type": "code",
   "execution_count": 53,
   "metadata": {},
   "outputs": [
    {
     "output_type": "execute_result",
     "data": {
      "text/plain": [
       "(90049,)"
      ]
     },
     "metadata": {},
     "execution_count": 53
    }
   ],
   "source": [
    "test_similarities.shape"
   ]
  },
  {
   "cell_type": "code",
   "execution_count": 54,
   "metadata": {},
   "outputs": [],
   "source": [
    "num_recs = 3"
   ]
  },
  {
   "cell_type": "code",
   "execution_count": 55,
   "metadata": {},
   "outputs": [
    {
     "output_type": "execute_result",
     "data": {
      "text/plain": [
       "array([40434, 82958, 20892])"
      ]
     },
     "metadata": {},
     "execution_count": 55
    }
   ],
   "source": [
    "idxs = test_similarities.argsort()[-(num_recs):]\n",
    "idxs"
   ]
  },
  {
   "cell_type": "code",
   "execution_count": 56,
   "metadata": {},
   "outputs": [
    {
     "output_type": "execute_result",
     "data": {
      "text/plain": [
       "20892"
      ]
     },
     "metadata": {},
     "execution_count": 56
    }
   ],
   "source": [
    "test_similarities.argmax()"
   ]
  },
  {
   "cell_type": "code",
   "execution_count": 57,
   "metadata": {},
   "outputs": [
    {
     "output_type": "execute_result",
     "data": {
      "text/plain": [
       "['The Hidden Staircase', 'MurderCast', 'True Crime and Mysteries']"
      ]
     },
     "metadata": {},
     "execution_count": 57
    }
   ],
   "source": [
    "titles = list(reversed(list(feature_df.iloc[idxs].index)))\n",
    "titles"
   ]
  },
  {
   "cell_type": "code",
   "execution_count": 58,
   "metadata": {},
   "outputs": [
    {
     "output_type": "execute_result",
     "data": {
      "text/plain": [
       "[0.6851918515923576, 0.5976549010716439, 0.4883104660343828]"
      ]
     },
     "metadata": {},
     "execution_count": 58
    }
   ],
   "source": [
    "cos_scores = list(reversed(list(test_similarities[idxs])))\n",
    "cos_scores"
   ]
  },
  {
   "cell_type": "code",
   "execution_count": null,
   "metadata": {},
   "outputs": [],
   "source": [
    "cos_scores_round = [round(score, 2) for score in cos_scores]\n",
    "cos_scores_round"
   ]
  }
 ]
}