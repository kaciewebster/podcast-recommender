{
 "cells": [
  {
   "cell_type": "markdown",
   "metadata": {},
   "source": [
    "# Recommender"
   ]
  },
  {
   "cell_type": "code",
   "execution_count": 2,
   "metadata": {},
   "outputs": [],
   "source": [
    "import pickle\n",
    "import pandas as pd\n",
    "import numpy as np\n",
    "from sklearn.metrics.pairwise import cosine_similarity\n",
    "import random"
   ]
  },
  {
   "cell_type": "code",
   "execution_count": 3,
   "metadata": {},
   "outputs": [],
   "source": [
    "sim_mat = pd.read_pickle('../app/similarity_matrix.pkl')"
   ]
  },
  {
   "cell_type": "code",
   "execution_count": 4,
   "metadata": {},
   "outputs": [],
   "source": [
    "with open('../app/titles_list.pkl', 'rb') as f:\n",
    "    titles_list = pickle.load(f)"
   ]
  },
  {
   "cell_type": "code",
   "execution_count": 5,
   "metadata": {},
   "outputs": [],
   "source": [
    "with open('../app/category_dict.pkl', 'rb') as f:\n",
    "    cat_dict = pickle.load(f)"
   ]
  },
  {
   "cell_type": "code",
   "execution_count": 32,
   "metadata": {},
   "outputs": [
    {
     "output_type": "execute_result",
     "data": {
      "text/plain": [
       "['Sugar High']"
      ]
     },
     "metadata": {},
     "execution_count": 32
    }
   ],
   "source": [
    "sample = random.sample(titles_list, 1)\n",
    "sample"
   ]
  },
  {
   "cell_type": "code",
   "execution_count": 7,
   "metadata": {},
   "outputs": [
    {
     "output_type": "stream",
     "name": "stdout",
     "text": [
      "17459\n"
     ]
    }
   ],
   "source": [
    "# Make a dictionary to refer back to to get the title names from the index number.\n",
    "idx_titles = {key:val for key, val in zip(range(0, sim_mat.shape[0]), titles_list)}\n",
    "key_list = list(idx_titles.keys())\n",
    "val_list = list(idx_titles.values())\n",
    "position = val_list.index(sample[0])\n",
    "print(position)"
   ]
  },
  {
   "cell_type": "code",
   "execution_count": 8,
   "metadata": {},
   "outputs": [
    {
     "output_type": "execute_result",
     "data": {
      "text/plain": [
       "array([18997, 19040, 19037, ..., 11666, 14310, 17459])"
      ]
     },
     "metadata": {},
     "execution_count": 8
    }
   ],
   "source": [
    "# Print the order of similar podcasts.\n",
    "sim_mat.iloc[position].values.argsort()"
   ]
  },
  {
   "cell_type": "code",
   "execution_count": 9,
   "metadata": {},
   "outputs": [
    {
     "output_type": "execute_result",
     "data": {
      "text/plain": [
       "array([13017, 11666, 14310])"
      ]
     },
     "metadata": {},
     "execution_count": 9
    }
   ],
   "source": [
    "# Make sure I'm grabbing the top 3 similar podcasts.\n",
    "num_recs = 3\n",
    "sim_mat.iloc[position].values.argsort()[-(num_recs+1):-1]"
   ]
  },
  {
   "cell_type": "code",
   "execution_count": 9,
   "metadata": {},
   "outputs": [],
   "source": [
    "# Find the indices of the top 3 most similar podcasts.\n",
    "recs_idx = sim_mat.iloc[position].values.argsort()[-(num_recs+1):-1][::-1]"
   ]
  },
  {
   "cell_type": "code",
   "execution_count": 10,
   "metadata": {},
   "outputs": [],
   "source": [
    "# Add title names to a list.\n",
    "podcast_recs = []\n",
    "for idx in recs_idx:\n",
    "    podcast_recs.append(titles_list[idx])"
   ]
  },
  {
   "cell_type": "code",
   "execution_count": 11,
   "metadata": {},
   "outputs": [],
   "source": [
    "# Add category types to recommendations.\n",
    "title_with_cat = []\n",
    "for podcast in podcast_recs:\n",
    "    title_with_cat.append([podcast, cat_dict[podcast]])"
   ]
  },
  {
   "cell_type": "code",
   "execution_count": 12,
   "metadata": {},
   "outputs": [
    {
     "data": {
      "text/plain": [
       "[['Sulivan França', 'management marketing business careers'],\n",
       " ['StaR Coach Show',\n",
       "  'management marketing education training careers business'],\n",
       " ['Coaching U Podcast with Coach Brendan Suhr',\n",
       "  'college high school sports recreation']]"
      ]
     },
     "execution_count": 12,
     "metadata": {},
     "output_type": "execute_result"
    }
   ],
   "source": [
    "title_with_cat"
   ]
  },
  {
   "cell_type": "code",
   "execution_count": null,
   "metadata": {},
   "outputs": [],
   "source": []
  }
 ],
 "metadata": {
  "kernelspec": {
   "display_name": "Python 3",
   "language": "python",
   "name": "python3"
  },
  "language_info": {
   "codemirror_mode": {
    "name": "ipython",
    "version": 3
   },
   "file_extension": ".py",
   "mimetype": "text/x-python",
   "name": "python",
   "nbconvert_exporter": "python",
   "pygments_lexer": "ipython3",
   "version": "3.7.7-final"
  }
 },
 "nbformat": 4,
 "nbformat_minor": 4
}